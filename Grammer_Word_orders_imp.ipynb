{
 "cells": [
  {
   "cell_type": "markdown",
   "id": "4de57621",
   "metadata": {},
   "source": [
    "# Why grammar and word orders are necessary in NLP"
   ]
  },
  {
   "cell_type": "code",
   "execution_count": null,
   "id": "d0c3819a",
   "metadata": {},
   "outputs": [],
   "source": [
    "from itertools import permutations"
   ]
  },
  {
   "cell_type": "code",
   "execution_count": null,
   "id": "e7aac654",
   "metadata": {},
   "outputs": [],
   "source": [
    "[\" \".join(combo) for combo in\\\n",
    "...      permutations(\"Good Morning Rose!\".split(),3)] "
   ]
  },
  {
   "cell_type": "markdown",
   "id": "b359304d",
   "metadata": {},
   "source": [
    "# Observe the sentences and make conclusions about them\n",
    "1. Do you think all have same meaning?\n",
    "2. What is interpreted as GOOD ROSE Morning?\n",
    "3. How many combinations are expected by a chat bot?\n",
    "4. Can you think a chat bot can respond to one of these quers?"
   ]
  },
  {
   "cell_type": "markdown",
   "id": "b32fe0c9",
   "metadata": {},
   "source": [
    "# Lets try bigger sentences.."
   ]
  },
  {
   "cell_type": "code",
   "execution_count": null,
   "id": "ee21b1e2",
   "metadata": {},
   "outputs": [],
   "source": [
    "S = \"\"\" Find textbooks with titles containing NLP,\n",
    "... or 'natural' or 'language' or 'computational'\n",
    "... and 'linguistics'.\"\"\""
   ]
  },
  {
   "cell_type": "code",
   "execution_count": null,
   "id": "33104bfa",
   "metadata": {},
   "outputs": [],
   "source": [
    "len(set(S.split()))"
   ]
  },
  {
   "cell_type": "code",
   "execution_count": null,
   "id": "9c664453",
   "metadata": {},
   "outputs": [],
   "source": [
    "import numpy as np\n",
    "np.arange(1,13).prod()"
   ]
  },
  {
   "cell_type": "code",
   "execution_count": null,
   "id": "8df15a0e",
   "metadata": {},
   "outputs": [],
   "source": [
    "[\" \".join(combo) for combo in\\\n",
    "...      permutations(\"Find textbooks with titles containing NLP!\".split(),6)] "
   ]
  },
  {
   "cell_type": "code",
   "execution_count": null,
   "id": "fda0542a",
   "metadata": {},
   "outputs": [],
   "source": [
    "np.arange(1,7).prod()"
   ]
  },
  {
   "cell_type": "markdown",
   "id": "a9c4bb8f",
   "metadata": {},
   "source": [
    "# the number of permutations exploded from 6 to factorial(12) = 479001600"
   ]
  },
  {
   "cell_type": "markdown",
   "id": "04b02c1a",
   "metadata": {},
   "source": [
    "# Hence, the conclusion...The logic contaiend in the word order is important to any machine that would like to reply with a correct responce. \n"
   ]
  },
  {
   "cell_type": "markdown",
   "id": "e9f273ff",
   "metadata": {},
   "source": [
    "# In any language (SQL or NLP) order of words and grammar are important to convey logical relationships betwwen them."
   ]
  },
  {
   "cell_type": "markdown",
   "id": "dbba0741",
   "metadata": {},
   "source": [
    "# How It is done in NLP: Using Parsers : simply put as Grammar Trees. In NLP Parasers generate syntactical and logical realtionship between words with 90% Accuray."
   ]
  },
  {
   "cell_type": "code",
   "execution_count": null,
   "id": "8b162102",
   "metadata": {},
   "outputs": [],
   "source": []
  }
 ],
 "metadata": {
  "kernelspec": {
   "display_name": "Python 3",
   "language": "python",
   "name": "python3"
  },
  "language_info": {
   "codemirror_mode": {
    "name": "ipython",
    "version": 3
   },
   "file_extension": ".py",
   "mimetype": "text/x-python",
   "name": "python",
   "nbconvert_exporter": "python",
   "pygments_lexer": "ipython3",
   "version": "3.8.8"
  }
 },
 "nbformat": 4,
 "nbformat_minor": 5
}
