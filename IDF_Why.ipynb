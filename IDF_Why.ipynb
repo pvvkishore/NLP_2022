{
 "cells": [
  {
   "cell_type": "markdown",
   "id": "8fed8f98",
   "metadata": {},
   "source": [
    "# Alternative to TF"
   ]
  },
  {
   "cell_type": "markdown",
   "id": "eebb824e",
   "metadata": {},
   "source": [
    "# Inverse Document Frequency (IDF)"
   ]
  },
  {
   "cell_type": "markdown",
   "id": "d00635b9",
   "metadata": {},
   "source": [
    "# How do you judge the importance of a word (TERM) in a pair of documents?"
   ]
  },
  {
   "cell_type": "markdown",
   "id": "621b12ea",
   "metadata": {},
   "source": [
    "@@ If a term appears in a document lot of times, but occurs rarely in another document or rest of the corpus, one would assume its importnat to the document."
   ]
  },
  {
   "cell_type": "markdown",
   "id": "186c37a1",
   "metadata": {},
   "source": [
    "# IDF = Total Number of Documents/ Number of documents the term appears"
   ]
  },
  {
   "cell_type": "markdown",
   "id": "5acc5991",
   "metadata": {},
   "source": [
    "##### 2 total documents / 2 documents contain “and” = 2/2 = 1 \n",
    "##### 2 total documents / 2 documents contain “kite” = 2/2 = 1 \n",
    "# Not very interesting. \n",
    "#### So let’s look at another word “China.” \n",
    "##### 2 total documents / 1 document contains “China” = 2/1 = 2"
   ]
  },
  {
   "cell_type": "code",
   "execution_count": 1,
   "id": "38322eb3",
   "metadata": {},
   "outputs": [
    {
     "data": {
      "text/plain": [
       "{'kite': 0.020338983050847456,\n",
       " 'and': 0.030508474576271188,\n",
       " 'china': 0.010169491525423728}"
      ]
     },
     "execution_count": 1,
     "metadata": {},
     "output_type": "execute_result"
    }
   ],
   "source": [
    "#!/usr/bin/env python\n",
    "# coding: utf-8\n",
    "\n",
    "# # Where TF fails and TF - IDF works\n",
    "\n",
    "# In[1]:\n",
    "\n",
    "\n",
    "D1 = \"\"\"A kite is traditionally a tethered heavier-than-air craft with\n",
    "      wing surfaces that react against the air to create lift and drag. \n",
    "      A kite consists of wings, tethers, and anchors. Kites often have a \n",
    "      bridle to guide the face of the kite at the correct angle so the \n",
    "      wind can lift it. A kite’s wing also may be so designed so a bridle \n",
    "      is not needed; when kiting meets the wing at a single point. \n",
    "      A kite may have fixed or moving anchors. Untraditionally in \n",
    "      technical kiting, a kite consists of tether-set-coupled wing sets; \n",
    "      even in technical kiting, though, a wing in the system is still \n",
    "      often called the kite. The lift that sustains the kite in flight \n",
    "      is generated when air flows around the kite’s surface, producing \n",
    "      low pressure above and high pressure below the wings. The interaction\n",
    "      with the wind also generates horizontal drag along the direction of \n",
    "      the wind. The resultant force vector from the lift and drag force \n",
    "      components is opposed by the tension of one or more of the lines or \n",
    "      tethers to which the kite is attached. The anchor point of the kite \n",
    "      line may be static or moving (such as the towing of a kite by a \n",
    "      running person, boat, free-falling anchors as in paragliders and \n",
    "      fugitive parakites or vehicle). The same principles of fluid flow \n",
    "      apply in liquids and kites are also used under water.\n",
    "      A hybrid tethered craft comprising both a lighter-than-air balloon \n",
    "      as well as a kite lifting surface is called a kytoon. Kites have a \n",
    "      long and varied history and many different types are flown \n",
    "      individually and at festivals worldwide. Kites may be flown \n",
    "      for recreation, art or other practical uses. Sport kites can be \n",
    "      flown in aerial ballet, sometimes as part of a competition. Power \n",
    "      kites are multi-line steerable kites designed to generate large \n",
    "      forces which can be used to power activities such as kite surfing, \n",
    "      kite landboarding, kite fishing, kite buggying and a new trend snow \n",
    "      kiting. Even Man-lifting kites have been made.\"\"\"\n",
    "\n",
    "\n",
    "# In[2]:\n",
    "\n",
    "\n",
    "D2 = \"\"\"Kites were invented in China, where materials ideal for kite \n",
    "building were readily available: silk fabric for sail material; fine, \n",
    "high-tensile-strength silk for flying line; and resilient bamboo for a \n",
    "strong, lightweight framework. The kite has been claimed as the invention \n",
    "of the 5th-century BC Chinese philosophers Mozi (also Mo Di) and Lu Ban \n",
    "(also Gongshu Ban). By 549 AD paper kites were certainly being flown, \n",
    "as it was recorded that in that year a paper kite was used as a message \n",
    "for a rescue mission. Ancient and medieval Chinese sources describe kites \n",
    "being used for measuring distances, testing the wind, lifting men, \n",
    "signaling, and communication for military operations. The earliest known \n",
    "Chinese kites were flat (not bowed) and often rectangular. Later, tailless \n",
    "kites incorporated a stabilizing bowline. Kites were decorated with \n",
    "mythological motifs and legendary figures; some were fitted with strings \n",
    "and whistles to make musical sounds while flying. From China, kites were \n",
    "introduced to Cambodia, Thailand, India, Japan, Korea and the western \n",
    "world. After its introduction into India, the kite further evolved into \n",
    "the fighter kite, known as the patang in India, where thousands are flown \n",
    "every year on festivals such as Makar Sankranti. Kites were known \n",
    "throughout Polynesia, as far as New Zealand, with the assumption being \n",
    "that the knowledge diffused from China along with the people. \n",
    "Anthropomorphic kites made from cloth and wood were used in religious \n",
    "ceremonies to send prayers to the gods. Polynesian kite traditions are \n",
    "used by anthropologists get an idea of early “primitive” Asian traditions \n",
    "that are believed to have at one time existed in Asia.\"\"\"\n",
    "\n",
    "\n",
    "# # S1: Extract word count from each documnets D1 and D2\n",
    "\n",
    "# In[3]:\n",
    "\n",
    "\n",
    "from nltk.tokenize import TreebankWordTokenizer\n",
    "tokenizer = TreebankWordTokenizer()\n",
    "D1_wc = D1.lower()\n",
    "D1_tc = tokenizer.tokenize(D1_wc)\n",
    "D1_tc\n",
    "\n",
    "\n",
    "# In[4]:\n",
    "\n",
    "\n",
    "D2_wc = D2.lower()\n",
    "D2_tc = tokenizer.tokenize(D2_wc)\n",
    "D2_tc\n",
    "\n",
    "\n",
    "# In[5]:\n",
    "\n",
    "\n",
    "D1_tc_total = len(D1_tc)\n",
    "D1_tc_total\n",
    "\n",
    "\n",
    "# In[6]:\n",
    "\n",
    "\n",
    "D2_tc_total = len(D2_tc)\n",
    "D2_tc_total\n",
    "\n",
    "\n",
    "# # S2: Lets look at TF (term freq) of word \"kite\" in D1 and D2 & Store TF for D1 and D2\n",
    "\n",
    "# In[7]:\n",
    "\n",
    "\n",
    "D1_tf = {}\n",
    "D2_tf = {}\n",
    "\n",
    "\n",
    "# In[8]:\n",
    "\n",
    "\n",
    "from collections import Counter\n",
    "D1_counts = Counter(D1_tc)\n",
    "D2_counts = Counter(D2_tc)\n",
    "D1_counts,D2_counts\n",
    "\n",
    "\n",
    "# In[14]:\n",
    "\n",
    "\n",
    "D1_tf['kite'] = D1_counts['kite']/D1_tc_total\n",
    "D1_tf\n",
    "\n",
    "\n",
    "# In[15]:\n",
    "\n",
    "\n",
    "D2_tf['kite'] = D2_counts['kite']/D2_tc_total\n",
    "D2_tf\n",
    "\n",
    "\n",
    "# # Mathmatically relate D1_tf and D2_tf \n",
    "\n",
    "# In[16]:\n",
    "\n",
    "\n",
    "D1_tf['and'] = D1_counts['and']/D1_tc_total\n",
    "D1_tf\n",
    "\n",
    "\n",
    "# In[18]:\n",
    "\n",
    "\n",
    "D2_tf['and'] = D2_counts['and']/D2_tc_total\n",
    "D2_tf\n",
    "\n",
    "\n",
    "# # The Question is: What do think these two documents are about : 'KITE' or 'AND'???\n",
    "\n",
    "# In[19]:\n",
    "\n",
    "\n",
    "D1_tf['china'] = D1_counts['china']/D1_tc_total\n",
    "D1_tf\n",
    "\n",
    "\n",
    "# In[20]:\n",
    "\n",
    "\n",
    "D2_tf['china'] = D2_counts['china']/D2_tc_total\n",
    "D2_tf\n",
    "\n",
    "\n",
    "# In[ ]:\n",
    "\n",
    "\n",
    "\n",
    "\n"
   ]
  },
  {
   "cell_type": "markdown",
   "id": "450b99da",
   "metadata": {},
   "source": [
    "# Lets Compute IDF"
   ]
  },
  {
   "cell_type": "markdown",
   "id": "476ecb11",
   "metadata": {},
   "source": [
    "##### With respect to D1"
   ]
  },
  {
   "cell_type": "code",
   "execution_count": 2,
   "id": "a6182ce4",
   "metadata": {},
   "outputs": [],
   "source": [
    "num_docs_containing_and = 0\n",
    "for doc in [D1_tc, D2_tc]:\n",
    "    if 'and' in doc:\n",
    "        num_docs_containing_and +=1"
   ]
  },
  {
   "cell_type": "code",
   "execution_count": 3,
   "id": "bc586be7",
   "metadata": {},
   "outputs": [
    {
     "data": {
      "text/plain": [
       "1.0"
      ]
     },
     "execution_count": 3,
     "metadata": {},
     "output_type": "execute_result"
    }
   ],
   "source": [
    "num_of_docs = 2\n",
    "D1_idf = {}\n",
    "D2_idf = {}\n",
    "D1_idf['and'] = num_of_docs/num_docs_containing_and\n",
    "D1_idf['and']"
   ]
  },
  {
   "cell_type": "code",
   "execution_count": 4,
   "id": "eacb6345",
   "metadata": {},
   "outputs": [],
   "source": [
    "num_docs_containing_kite = 0\n",
    "for doc in [D1_tc, D2_tc]:\n",
    "    if 'kite' in doc:\n",
    "        num_docs_containing_kite +=1"
   ]
  },
  {
   "cell_type": "code",
   "execution_count": 5,
   "id": "4a24b9da",
   "metadata": {},
   "outputs": [
    {
     "data": {
      "text/plain": [
       "1.0"
      ]
     },
     "execution_count": 5,
     "metadata": {},
     "output_type": "execute_result"
    }
   ],
   "source": [
    "D1_idf['kite'] = num_of_docs/num_docs_containing_kite\n",
    "D1_idf['kite']"
   ]
  },
  {
   "cell_type": "code",
   "execution_count": 6,
   "id": "95ed325a",
   "metadata": {},
   "outputs": [
    {
     "data": {
      "text/plain": [
       "2.0"
      ]
     },
     "execution_count": 6,
     "metadata": {},
     "output_type": "execute_result"
    }
   ],
   "source": [
    "num_docs_containing_china = 0\n",
    "for doc in [D1_tc, D2_tc]:\n",
    "    if 'china' in doc:\n",
    "        num_docs_containing_china +=1\n",
    "D1_idf['china'] = num_of_docs/(num_docs_containing_china)\n",
    "D1_idf['china']"
   ]
  },
  {
   "cell_type": "markdown",
   "id": "fbb2f0a3",
   "metadata": {},
   "source": [
    "##### With respect to D2"
   ]
  },
  {
   "cell_type": "code",
   "execution_count": 7,
   "id": "f9bcc08c",
   "metadata": {},
   "outputs": [
    {
     "data": {
      "text/plain": [
       "2.0"
      ]
     },
     "execution_count": 7,
     "metadata": {},
     "output_type": "execute_result"
    }
   ],
   "source": [
    "num_docs_containing_china = 0\n",
    "for doc in [D1_tc, D2_tc]:\n",
    "    if 'china' in doc:\n",
    "        num_docs_containing_china +=1\n",
    "D2_idf['china'] = num_of_docs/(num_docs_containing_china)\n",
    "D2_idf['china']"
   ]
  },
  {
   "cell_type": "markdown",
   "id": "842e60da",
   "metadata": {},
   "source": [
    "# Multiply TF and IDF called as tfidf"
   ]
  },
  {
   "cell_type": "code",
   "execution_count": 8,
   "id": "e948cdd4",
   "metadata": {},
   "outputs": [
    {
     "data": {
      "text/plain": [
       "0.0"
      ]
     },
     "execution_count": 8,
     "metadata": {},
     "output_type": "execute_result"
    }
   ],
   "source": [
    "D1_tfidf = {}\n",
    "D1_tfidf = D1_tf['and']*D1_idf['and']\n",
    "D1_tfidf = D1_tf['kite']*D1_idf['kite']\n",
    "D1_tfidf = D1_tf['china']*D1_idf['china']\n",
    "D1_tfidf"
   ]
  },
  {
   "cell_type": "code",
   "execution_count": 9,
   "id": "b630e07c",
   "metadata": {},
   "outputs": [],
   "source": [
    "D1_tfidf = D1_tf['and']*D1_idf['and']"
   ]
  },
  {
   "cell_type": "code",
   "execution_count": 10,
   "id": "887b88b3",
   "metadata": {},
   "outputs": [
    {
     "data": {
      "text/plain": [
       "0.02824858757062147"
      ]
     },
     "execution_count": 10,
     "metadata": {},
     "output_type": "execute_result"
    }
   ],
   "source": [
    "D1_tfidf"
   ]
  },
  {
   "cell_type": "code",
   "execution_count": 11,
   "id": "726735ff",
   "metadata": {},
   "outputs": [
    {
     "data": {
      "text/plain": [
       "0.03954802259887006"
      ]
     },
     "execution_count": 11,
     "metadata": {},
     "output_type": "execute_result"
    }
   ],
   "source": [
    "D1_tfidf = D1_tf['kite']*D1_idf['kite']\n",
    "D1_tfidf"
   ]
  },
  {
   "cell_type": "code",
   "execution_count": 12,
   "id": "16c1454d",
   "metadata": {},
   "outputs": [
    {
     "data": {
      "text/plain": [
       "0.0"
      ]
     },
     "execution_count": 12,
     "metadata": {},
     "output_type": "execute_result"
    }
   ],
   "source": [
    "D1_tfidf = D1_tf['china']*D1_idf['china']\n",
    "D1_tfidf"
   ]
  },
  {
   "cell_type": "code",
   "execution_count": null,
   "id": "0861d15a",
   "metadata": {},
   "outputs": [],
   "source": []
  }
 ],
 "metadata": {
  "kernelspec": {
   "display_name": "Python 3",
   "language": "python",
   "name": "python3"
  },
  "language_info": {
   "codemirror_mode": {
    "name": "ipython",
    "version": 3
   },
   "file_extension": ".py",
   "mimetype": "text/x-python",
   "name": "python",
   "nbconvert_exporter": "python",
   "pygments_lexer": "ipython3",
   "version": "3.8.8"
  }
 },
 "nbformat": 4,
 "nbformat_minor": 5
}
