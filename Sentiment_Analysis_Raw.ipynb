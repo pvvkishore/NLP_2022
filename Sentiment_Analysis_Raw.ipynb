{
 "cells": [
  {
   "cell_type": "markdown",
   "id": "b5d5b49d",
   "metadata": {},
   "source": [
    "# Sentiment Analysis"
   ]
  },
  {
   "cell_type": "code",
   "execution_count": 2,
   "id": "3ccc0097",
   "metadata": {},
   "outputs": [
    {
     "name": "stdout",
     "output_type": "stream",
     "text": [
      "     Time_submitted                                             Review  \\\n",
      "0  09-07-2022 15:00  Great music service, the audio is high quality...   \n",
      "1  09-07-2022 14:21  Please ignore previous negative rating. This a...   \n",
      "2  09-07-2022 13:27  This pop-up \"Get the best Spotify experience o...   \n",
      "3  09-07-2022 13:26    Really buggy and terrible to use as of recently   \n",
      "4  09-07-2022 13:20  Dear Spotify why do I get songs that I didn't ...   \n",
      "\n",
      "   Rating  Total_thumbsup Reply  \n",
      "0       5               2   NaN  \n",
      "1       5               1   NaN  \n",
      "2       4               0   NaN  \n",
      "3       1               1   NaN  \n",
      "4       1               1   NaN  \n"
     ]
    }
   ],
   "source": [
    "import pandas as pd\n",
    "df = pd.read_csv('reviews.csv') # SPOTIFY APP REVIEWS\n",
    "print(df.head())"
   ]
  },
  {
   "cell_type": "markdown",
   "id": "2673e472",
   "metadata": {},
   "source": [
    "# Clean the data as it looks messy"
   ]
  },
  {
   "cell_type": "code",
   "execution_count": 3,
   "id": "c0624323",
   "metadata": {},
   "outputs": [
    {
     "data": {
      "text/html": [
       "<div>\n",
       "<style scoped>\n",
       "    .dataframe tbody tr th:only-of-type {\n",
       "        vertical-align: middle;\n",
       "    }\n",
       "\n",
       "    .dataframe tbody tr th {\n",
       "        vertical-align: top;\n",
       "    }\n",
       "\n",
       "    .dataframe thead th {\n",
       "        text-align: right;\n",
       "    }\n",
       "</style>\n",
       "<table border=\"1\" class=\"dataframe\">\n",
       "  <thead>\n",
       "    <tr style=\"text-align: right;\">\n",
       "      <th></th>\n",
       "      <th>Review</th>\n",
       "      <th>Rating</th>\n",
       "      <th>Total_thumbsup</th>\n",
       "      <th>Reply</th>\n",
       "    </tr>\n",
       "  </thead>\n",
       "  <tbody>\n",
       "    <tr>\n",
       "      <th>0</th>\n",
       "      <td>Great music service, the audio is high quality...</td>\n",
       "      <td>5</td>\n",
       "      <td>2</td>\n",
       "      <td>NaN</td>\n",
       "    </tr>\n",
       "    <tr>\n",
       "      <th>1</th>\n",
       "      <td>Please ignore previous negative rating. This a...</td>\n",
       "      <td>5</td>\n",
       "      <td>1</td>\n",
       "      <td>NaN</td>\n",
       "    </tr>\n",
       "    <tr>\n",
       "      <th>2</th>\n",
       "      <td>This pop-up \"Get the best Spotify experience o...</td>\n",
       "      <td>4</td>\n",
       "      <td>0</td>\n",
       "      <td>NaN</td>\n",
       "    </tr>\n",
       "    <tr>\n",
       "      <th>3</th>\n",
       "      <td>Really buggy and terrible to use as of recently</td>\n",
       "      <td>1</td>\n",
       "      <td>1</td>\n",
       "      <td>NaN</td>\n",
       "    </tr>\n",
       "    <tr>\n",
       "      <th>4</th>\n",
       "      <td>Dear Spotify why do I get songs that I didn't ...</td>\n",
       "      <td>1</td>\n",
       "      <td>1</td>\n",
       "      <td>NaN</td>\n",
       "    </tr>\n",
       "  </tbody>\n",
       "</table>\n",
       "</div>"
      ],
      "text/plain": [
       "                                              Review  Rating  Total_thumbsup  \\\n",
       "0  Great music service, the audio is high quality...       5               2   \n",
       "1  Please ignore previous negative rating. This a...       5               1   \n",
       "2  This pop-up \"Get the best Spotify experience o...       4               0   \n",
       "3    Really buggy and terrible to use as of recently       1               1   \n",
       "4  Dear Spotify why do I get songs that I didn't ...       1               1   \n",
       "\n",
       "  Reply  \n",
       "0   NaN  \n",
       "1   NaN  \n",
       "2   NaN  \n",
       "3   NaN  \n",
       "4   NaN  "
      ]
     },
     "execution_count": 3,
     "metadata": {},
     "output_type": "execute_result"
    }
   ],
   "source": [
    "mydata = df.drop('Time_submitted', axis=1)\n",
    "mydata.head()"
   ]
  },
  {
   "cell_type": "code",
   "execution_count": 4,
   "id": "aec74633",
   "metadata": {},
   "outputs": [
    {
     "data": {
      "text/html": [
       "<div>\n",
       "<style scoped>\n",
       "    .dataframe tbody tr th:only-of-type {\n",
       "        vertical-align: middle;\n",
       "    }\n",
       "\n",
       "    .dataframe tbody tr th {\n",
       "        vertical-align: top;\n",
       "    }\n",
       "\n",
       "    .dataframe thead th {\n",
       "        text-align: right;\n",
       "    }\n",
       "</style>\n",
       "<table border=\"1\" class=\"dataframe\">\n",
       "  <thead>\n",
       "    <tr style=\"text-align: right;\">\n",
       "      <th></th>\n",
       "      <th>Review</th>\n",
       "      <th>Rating</th>\n",
       "      <th>Reply</th>\n",
       "    </tr>\n",
       "  </thead>\n",
       "  <tbody>\n",
       "    <tr>\n",
       "      <th>0</th>\n",
       "      <td>Great music service, the audio is high quality...</td>\n",
       "      <td>5</td>\n",
       "      <td>NaN</td>\n",
       "    </tr>\n",
       "    <tr>\n",
       "      <th>1</th>\n",
       "      <td>Please ignore previous negative rating. This a...</td>\n",
       "      <td>5</td>\n",
       "      <td>NaN</td>\n",
       "    </tr>\n",
       "    <tr>\n",
       "      <th>2</th>\n",
       "      <td>This pop-up \"Get the best Spotify experience o...</td>\n",
       "      <td>4</td>\n",
       "      <td>NaN</td>\n",
       "    </tr>\n",
       "    <tr>\n",
       "      <th>3</th>\n",
       "      <td>Really buggy and terrible to use as of recently</td>\n",
       "      <td>1</td>\n",
       "      <td>NaN</td>\n",
       "    </tr>\n",
       "    <tr>\n",
       "      <th>4</th>\n",
       "      <td>Dear Spotify why do I get songs that I didn't ...</td>\n",
       "      <td>1</td>\n",
       "      <td>NaN</td>\n",
       "    </tr>\n",
       "  </tbody>\n",
       "</table>\n",
       "</div>"
      ],
      "text/plain": [
       "                                              Review  Rating Reply\n",
       "0  Great music service, the audio is high quality...       5   NaN\n",
       "1  Please ignore previous negative rating. This a...       5   NaN\n",
       "2  This pop-up \"Get the best Spotify experience o...       4   NaN\n",
       "3    Really buggy and terrible to use as of recently       1   NaN\n",
       "4  Dear Spotify why do I get songs that I didn't ...       1   NaN"
      ]
     },
     "execution_count": 4,
     "metadata": {},
     "output_type": "execute_result"
    }
   ],
   "source": [
    "mydata_clean = mydata.drop('Total_thumbsup', axis=1)\n",
    "mydata_clean.head()"
   ]
  },
  {
   "cell_type": "code",
   "execution_count": 5,
   "id": "5fc0d163",
   "metadata": {},
   "outputs": [
    {
     "data": {
      "text/html": [
       "<div>\n",
       "<style scoped>\n",
       "    .dataframe tbody tr th:only-of-type {\n",
       "        vertical-align: middle;\n",
       "    }\n",
       "\n",
       "    .dataframe tbody tr th {\n",
       "        vertical-align: top;\n",
       "    }\n",
       "\n",
       "    .dataframe thead th {\n",
       "        text-align: right;\n",
       "    }\n",
       "</style>\n",
       "<table border=\"1\" class=\"dataframe\">\n",
       "  <thead>\n",
       "    <tr style=\"text-align: right;\">\n",
       "      <th></th>\n",
       "      <th>Review</th>\n",
       "      <th>Rating</th>\n",
       "    </tr>\n",
       "  </thead>\n",
       "  <tbody>\n",
       "    <tr>\n",
       "      <th>0</th>\n",
       "      <td>Great music service, the audio is high quality...</td>\n",
       "      <td>5</td>\n",
       "    </tr>\n",
       "    <tr>\n",
       "      <th>1</th>\n",
       "      <td>Please ignore previous negative rating. This a...</td>\n",
       "      <td>5</td>\n",
       "    </tr>\n",
       "    <tr>\n",
       "      <th>2</th>\n",
       "      <td>This pop-up \"Get the best Spotify experience o...</td>\n",
       "      <td>4</td>\n",
       "    </tr>\n",
       "    <tr>\n",
       "      <th>3</th>\n",
       "      <td>Really buggy and terrible to use as of recently</td>\n",
       "      <td>1</td>\n",
       "    </tr>\n",
       "    <tr>\n",
       "      <th>4</th>\n",
       "      <td>Dear Spotify why do I get songs that I didn't ...</td>\n",
       "      <td>1</td>\n",
       "    </tr>\n",
       "  </tbody>\n",
       "</table>\n",
       "</div>"
      ],
      "text/plain": [
       "                                              Review  Rating\n",
       "0  Great music service, the audio is high quality...       5\n",
       "1  Please ignore previous negative rating. This a...       5\n",
       "2  This pop-up \"Get the best Spotify experience o...       4\n",
       "3    Really buggy and terrible to use as of recently       1\n",
       "4  Dear Spotify why do I get songs that I didn't ...       1"
      ]
     },
     "execution_count": 5,
     "metadata": {},
     "output_type": "execute_result"
    }
   ],
   "source": [
    "mydata_clean = mydata_clean.drop('Reply', axis=1)\n",
    "mydata_clean.head()"
   ]
  },
  {
   "cell_type": "code",
   "execution_count": 6,
   "id": "cb44d251",
   "metadata": {},
   "outputs": [
    {
     "data": {
      "text/plain": [
       "(61594, 2)"
      ]
     },
     "execution_count": 6,
     "metadata": {},
     "output_type": "execute_result"
    }
   ],
   "source": [
    "mydata_clean.shape"
   ]
  },
  {
   "cell_type": "code",
   "execution_count": 7,
   "id": "2a97e9dc",
   "metadata": {},
   "outputs": [],
   "source": [
    "mydataclean_tok = mydata_clean"
   ]
  },
  {
   "cell_type": "code",
   "execution_count": 8,
   "id": "2b18e5ae",
   "metadata": {},
   "outputs": [
    {
     "data": {
      "text/html": [
       "<div>\n",
       "<style scoped>\n",
       "    .dataframe tbody tr th:only-of-type {\n",
       "        vertical-align: middle;\n",
       "    }\n",
       "\n",
       "    .dataframe tbody tr th {\n",
       "        vertical-align: top;\n",
       "    }\n",
       "\n",
       "    .dataframe thead th {\n",
       "        text-align: right;\n",
       "    }\n",
       "</style>\n",
       "<table border=\"1\" class=\"dataframe\">\n",
       "  <thead>\n",
       "    <tr style=\"text-align: right;\">\n",
       "      <th></th>\n",
       "      <th>Review</th>\n",
       "      <th>Rating</th>\n",
       "    </tr>\n",
       "  </thead>\n",
       "  <tbody>\n",
       "    <tr>\n",
       "      <th>0</th>\n",
       "      <td>Great music service, the audio is high quality...</td>\n",
       "      <td>5</td>\n",
       "    </tr>\n",
       "    <tr>\n",
       "      <th>1</th>\n",
       "      <td>Please ignore previous negative rating. This a...</td>\n",
       "      <td>5</td>\n",
       "    </tr>\n",
       "    <tr>\n",
       "      <th>2</th>\n",
       "      <td>This pop-up \"Get the best Spotify experience o...</td>\n",
       "      <td>4</td>\n",
       "    </tr>\n",
       "    <tr>\n",
       "      <th>3</th>\n",
       "      <td>Really buggy and terrible to use as of recently</td>\n",
       "      <td>1</td>\n",
       "    </tr>\n",
       "    <tr>\n",
       "      <th>4</th>\n",
       "      <td>Dear Spotify why do I get songs that I didn't ...</td>\n",
       "      <td>1</td>\n",
       "    </tr>\n",
       "    <tr>\n",
       "      <th>...</th>\n",
       "      <td>...</td>\n",
       "      <td>...</td>\n",
       "    </tr>\n",
       "    <tr>\n",
       "      <th>61589</th>\n",
       "      <td>Even though it was communicated that lyrics fe...</td>\n",
       "      <td>1</td>\n",
       "    </tr>\n",
       "    <tr>\n",
       "      <th>61590</th>\n",
       "      <td>Use to be sooo good back when I had it, and wh...</td>\n",
       "      <td>1</td>\n",
       "    </tr>\n",
       "    <tr>\n",
       "      <th>61591</th>\n",
       "      <td>This app would be good if not for it taking ov...</td>\n",
       "      <td>2</td>\n",
       "    </tr>\n",
       "    <tr>\n",
       "      <th>61592</th>\n",
       "      <td>The app is good hard to navigate and won't jus...</td>\n",
       "      <td>2</td>\n",
       "    </tr>\n",
       "    <tr>\n",
       "      <th>61593</th>\n",
       "      <td>Its good but sometimes it doesnt load the musi...</td>\n",
       "      <td>4</td>\n",
       "    </tr>\n",
       "  </tbody>\n",
       "</table>\n",
       "<p>61594 rows × 2 columns</p>\n",
       "</div>"
      ],
      "text/plain": [
       "                                                  Review  Rating\n",
       "0      Great music service, the audio is high quality...       5\n",
       "1      Please ignore previous negative rating. This a...       5\n",
       "2      This pop-up \"Get the best Spotify experience o...       4\n",
       "3        Really buggy and terrible to use as of recently       1\n",
       "4      Dear Spotify why do I get songs that I didn't ...       1\n",
       "...                                                  ...     ...\n",
       "61589  Even though it was communicated that lyrics fe...       1\n",
       "61590  Use to be sooo good back when I had it, and wh...       1\n",
       "61591  This app would be good if not for it taking ov...       2\n",
       "61592  The app is good hard to navigate and won't jus...       2\n",
       "61593  Its good but sometimes it doesnt load the musi...       4\n",
       "\n",
       "[61594 rows x 2 columns]"
      ]
     },
     "execution_count": 8,
     "metadata": {},
     "output_type": "execute_result"
    }
   ],
   "source": [
    "mydataclean_tok"
   ]
  },
  {
   "cell_type": "markdown",
   "id": "7733394a",
   "metadata": {},
   "source": [
    "# pip install vadersentiment"
   ]
  },
  {
   "cell_type": "markdown",
   "id": "62df9931",
   "metadata": {},
   "source": [
    "# Step 1: Cleaning the text"
   ]
  },
  {
   "cell_type": "code",
   "execution_count": 9,
   "id": "32b7a6b9",
   "metadata": {},
   "outputs": [],
   "source": [
    "import tensorflow as tf\n",
    "from tensorflow.keras.preprocessing.text import Tokenizer"
   ]
  },
  {
   "cell_type": "code",
   "execution_count": 10,
   "id": "e842c804",
   "metadata": {},
   "outputs": [],
   "source": [
    "tokenizer_1 = Tokenizer(num_words = 10000, filters='!\"#$%&()*+,-./:;<=>?@[\\\\]^_`{|}~\\t\\n')\n",
    "tokenizer_1.fit_on_texts(mydata_clean)"
   ]
  },
  {
   "cell_type": "code",
   "execution_count": 11,
   "id": "89266631",
   "metadata": {},
   "outputs": [],
   "source": [
    "mydata_clean['Cleaned Reviews'] = tokenizer_1.fit_on_texts(mydata_clean['Review'])"
   ]
  },
  {
   "cell_type": "code",
   "execution_count": 12,
   "id": "27279016",
   "metadata": {},
   "outputs": [],
   "source": [
    "import re\n",
    "def clean(text):\n",
    "# Removes all special characters and numericals leaving the alphabets\n",
    "    text = re.sub('[^A-Za-z]+', ' ', text)\n",
    "    return text"
   ]
  },
  {
   "cell_type": "code",
   "execution_count": 14,
   "id": "740f5078",
   "metadata": {},
   "outputs": [
    {
     "data": {
      "text/html": [
       "<div>\n",
       "<style scoped>\n",
       "    .dataframe tbody tr th:only-of-type {\n",
       "        vertical-align: middle;\n",
       "    }\n",
       "\n",
       "    .dataframe tbody tr th {\n",
       "        vertical-align: top;\n",
       "    }\n",
       "\n",
       "    .dataframe thead th {\n",
       "        text-align: right;\n",
       "    }\n",
       "</style>\n",
       "<table border=\"1\" class=\"dataframe\">\n",
       "  <thead>\n",
       "    <tr style=\"text-align: right;\">\n",
       "      <th></th>\n",
       "      <th>Review</th>\n",
       "      <th>Rating</th>\n",
       "      <th>Cleaned Reviews</th>\n",
       "    </tr>\n",
       "  </thead>\n",
       "  <tbody>\n",
       "    <tr>\n",
       "      <th>0</th>\n",
       "      <td>Great music service, the audio is high quality...</td>\n",
       "      <td>5</td>\n",
       "      <td>Great music service the audio is high quality ...</td>\n",
       "    </tr>\n",
       "    <tr>\n",
       "      <th>1</th>\n",
       "      <td>Please ignore previous negative rating. This a...</td>\n",
       "      <td>5</td>\n",
       "      <td>Please ignore previous negative rating This ap...</td>\n",
       "    </tr>\n",
       "    <tr>\n",
       "      <th>2</th>\n",
       "      <td>This pop-up \"Get the best Spotify experience o...</td>\n",
       "      <td>4</td>\n",
       "      <td>This pop up Get the best Spotify experience on...</td>\n",
       "    </tr>\n",
       "    <tr>\n",
       "      <th>3</th>\n",
       "      <td>Really buggy and terrible to use as of recently</td>\n",
       "      <td>1</td>\n",
       "      <td>Really buggy and terrible to use as of recently</td>\n",
       "    </tr>\n",
       "    <tr>\n",
       "      <th>4</th>\n",
       "      <td>Dear Spotify why do I get songs that I didn't ...</td>\n",
       "      <td>1</td>\n",
       "      <td>Dear Spotify why do I get songs that I didn t ...</td>\n",
       "    </tr>\n",
       "  </tbody>\n",
       "</table>\n",
       "</div>"
      ],
      "text/plain": [
       "                                              Review  Rating  \\\n",
       "0  Great music service, the audio is high quality...       5   \n",
       "1  Please ignore previous negative rating. This a...       5   \n",
       "2  This pop-up \"Get the best Spotify experience o...       4   \n",
       "3    Really buggy and terrible to use as of recently       1   \n",
       "4  Dear Spotify why do I get songs that I didn't ...       1   \n",
       "\n",
       "                                     Cleaned Reviews  \n",
       "0  Great music service the audio is high quality ...  \n",
       "1  Please ignore previous negative rating This ap...  \n",
       "2  This pop up Get the best Spotify experience on...  \n",
       "3    Really buggy and terrible to use as of recently  \n",
       "4  Dear Spotify why do I get songs that I didn t ...  "
      ]
     },
     "execution_count": 14,
     "metadata": {},
     "output_type": "execute_result"
    }
   ],
   "source": [
    "# Cleaning the text in the review column\n",
    "mydata_clean['Cleaned Reviews'] = mydata_clean['Review'].apply(clean)\n",
    "mydata_clean.head()"
   ]
  },
  {
   "cell_type": "markdown",
   "id": "65827fb1",
   "metadata": {},
   "source": [
    "# Stetp 2: Tokenization"
   ]
  },
  {
   "cell_type": "code",
   "execution_count": 15,
   "id": "0c35daf4",
   "metadata": {},
   "outputs": [],
   "source": [
    "import nltk\n",
    "from nltk.tokenize import word_tokenize"
   ]
  },
  {
   "cell_type": "code",
   "execution_count": 16,
   "id": "3064403f",
   "metadata": {},
   "outputs": [
    {
     "data": {
      "text/plain": [
       "pandas.core.series.Series"
      ]
     },
     "execution_count": 16,
     "metadata": {},
     "output_type": "execute_result"
    }
   ],
   "source": [
    "type(mydata_clean['Review'])"
   ]
  },
  {
   "cell_type": "code",
   "execution_count": 17,
   "id": "fe4dfe01",
   "metadata": {},
   "outputs": [],
   "source": [
    "#mydata_clean = mydata_clean['Review'].to_string()"
   ]
  },
  {
   "cell_type": "code",
   "execution_count": 18,
   "id": "3dee448b",
   "metadata": {},
   "outputs": [],
   "source": [
    "#type(mydata_clean)"
   ]
  },
  {
   "cell_type": "code",
   "execution_count": 19,
   "id": "69de6cbc",
   "metadata": {},
   "outputs": [],
   "source": [
    "#len(mydata_clean)"
   ]
  },
  {
   "cell_type": "code",
   "execution_count": 20,
   "id": "d827b6a2",
   "metadata": {},
   "outputs": [],
   "source": [
    "#word_tokenize(mydata_clean)"
   ]
  },
  {
   "cell_type": "code",
   "execution_count": 21,
   "id": "f35461bd",
   "metadata": {},
   "outputs": [],
   "source": [
    "mydataclean_tok['tokenized_sents'] = mydataclean_tok.apply(lambda row: nltk.word_tokenize(row['Review']), axis=1)"
   ]
  },
  {
   "cell_type": "code",
   "execution_count": 22,
   "id": "e8f6237a",
   "metadata": {},
   "outputs": [
    {
     "data": {
      "text/html": [
       "<div>\n",
       "<style scoped>\n",
       "    .dataframe tbody tr th:only-of-type {\n",
       "        vertical-align: middle;\n",
       "    }\n",
       "\n",
       "    .dataframe tbody tr th {\n",
       "        vertical-align: top;\n",
       "    }\n",
       "\n",
       "    .dataframe thead th {\n",
       "        text-align: right;\n",
       "    }\n",
       "</style>\n",
       "<table border=\"1\" class=\"dataframe\">\n",
       "  <thead>\n",
       "    <tr style=\"text-align: right;\">\n",
       "      <th></th>\n",
       "      <th>Review</th>\n",
       "      <th>Rating</th>\n",
       "      <th>Cleaned Reviews</th>\n",
       "      <th>tokenized_sents</th>\n",
       "    </tr>\n",
       "  </thead>\n",
       "  <tbody>\n",
       "    <tr>\n",
       "      <th>0</th>\n",
       "      <td>Great music service, the audio is high quality...</td>\n",
       "      <td>5</td>\n",
       "      <td>Great music service the audio is high quality ...</td>\n",
       "      <td>[Great, music, service, ,, the, audio, is, hig...</td>\n",
       "    </tr>\n",
       "    <tr>\n",
       "      <th>1</th>\n",
       "      <td>Please ignore previous negative rating. This a...</td>\n",
       "      <td>5</td>\n",
       "      <td>Please ignore previous negative rating This ap...</td>\n",
       "      <td>[Please, ignore, previous, negative, rating, ....</td>\n",
       "    </tr>\n",
       "    <tr>\n",
       "      <th>2</th>\n",
       "      <td>This pop-up \"Get the best Spotify experience o...</td>\n",
       "      <td>4</td>\n",
       "      <td>This pop up Get the best Spotify experience on...</td>\n",
       "      <td>[This, pop-up, ``, Get, the, best, Spotify, ex...</td>\n",
       "    </tr>\n",
       "    <tr>\n",
       "      <th>3</th>\n",
       "      <td>Really buggy and terrible to use as of recently</td>\n",
       "      <td>1</td>\n",
       "      <td>Really buggy and terrible to use as of recently</td>\n",
       "      <td>[Really, buggy, and, terrible, to, use, as, of...</td>\n",
       "    </tr>\n",
       "    <tr>\n",
       "      <th>4</th>\n",
       "      <td>Dear Spotify why do I get songs that I didn't ...</td>\n",
       "      <td>1</td>\n",
       "      <td>Dear Spotify why do I get songs that I didn t ...</td>\n",
       "      <td>[Dear, Spotify, why, do, I, get, songs, that, ...</td>\n",
       "    </tr>\n",
       "    <tr>\n",
       "      <th>...</th>\n",
       "      <td>...</td>\n",
       "      <td>...</td>\n",
       "      <td>...</td>\n",
       "      <td>...</td>\n",
       "    </tr>\n",
       "    <tr>\n",
       "      <th>61589</th>\n",
       "      <td>Even though it was communicated that lyrics fe...</td>\n",
       "      <td>1</td>\n",
       "      <td>Even though it was communicated that lyrics fe...</td>\n",
       "      <td>[Even, though, it, was, communicated, that, ly...</td>\n",
       "    </tr>\n",
       "    <tr>\n",
       "      <th>61590</th>\n",
       "      <td>Use to be sooo good back when I had it, and wh...</td>\n",
       "      <td>1</td>\n",
       "      <td>Use to be sooo good back when I had it and whe...</td>\n",
       "      <td>[Use, to, be, sooo, good, back, when, I, had, ...</td>\n",
       "    </tr>\n",
       "    <tr>\n",
       "      <th>61591</th>\n",
       "      <td>This app would be good if not for it taking ov...</td>\n",
       "      <td>2</td>\n",
       "      <td>This app would be good if not for it taking ov...</td>\n",
       "      <td>[This, app, would, be, good, if, not, for, it,...</td>\n",
       "    </tr>\n",
       "    <tr>\n",
       "      <th>61592</th>\n",
       "      <td>The app is good hard to navigate and won't jus...</td>\n",
       "      <td>2</td>\n",
       "      <td>The app is good hard to navigate and won t jus...</td>\n",
       "      <td>[The, app, is, good, hard, to, navigate, and, ...</td>\n",
       "    </tr>\n",
       "    <tr>\n",
       "      <th>61593</th>\n",
       "      <td>Its good but sometimes it doesnt load the musi...</td>\n",
       "      <td>4</td>\n",
       "      <td>Its good but sometimes it doesnt load the musi...</td>\n",
       "      <td>[Its, good, but, sometimes, it, doesnt, load, ...</td>\n",
       "    </tr>\n",
       "  </tbody>\n",
       "</table>\n",
       "<p>61594 rows × 4 columns</p>\n",
       "</div>"
      ],
      "text/plain": [
       "                                                  Review  Rating  \\\n",
       "0      Great music service, the audio is high quality...       5   \n",
       "1      Please ignore previous negative rating. This a...       5   \n",
       "2      This pop-up \"Get the best Spotify experience o...       4   \n",
       "3        Really buggy and terrible to use as of recently       1   \n",
       "4      Dear Spotify why do I get songs that I didn't ...       1   \n",
       "...                                                  ...     ...   \n",
       "61589  Even though it was communicated that lyrics fe...       1   \n",
       "61590  Use to be sooo good back when I had it, and wh...       1   \n",
       "61591  This app would be good if not for it taking ov...       2   \n",
       "61592  The app is good hard to navigate and won't jus...       2   \n",
       "61593  Its good but sometimes it doesnt load the musi...       4   \n",
       "\n",
       "                                         Cleaned Reviews  \\\n",
       "0      Great music service the audio is high quality ...   \n",
       "1      Please ignore previous negative rating This ap...   \n",
       "2      This pop up Get the best Spotify experience on...   \n",
       "3        Really buggy and terrible to use as of recently   \n",
       "4      Dear Spotify why do I get songs that I didn t ...   \n",
       "...                                                  ...   \n",
       "61589  Even though it was communicated that lyrics fe...   \n",
       "61590  Use to be sooo good back when I had it and whe...   \n",
       "61591  This app would be good if not for it taking ov...   \n",
       "61592  The app is good hard to navigate and won t jus...   \n",
       "61593  Its good but sometimes it doesnt load the musi...   \n",
       "\n",
       "                                         tokenized_sents  \n",
       "0      [Great, music, service, ,, the, audio, is, hig...  \n",
       "1      [Please, ignore, previous, negative, rating, ....  \n",
       "2      [This, pop-up, ``, Get, the, best, Spotify, ex...  \n",
       "3      [Really, buggy, and, terrible, to, use, as, of...  \n",
       "4      [Dear, Spotify, why, do, I, get, songs, that, ...  \n",
       "...                                                  ...  \n",
       "61589  [Even, though, it, was, communicated, that, ly...  \n",
       "61590  [Use, to, be, sooo, good, back, when, I, had, ...  \n",
       "61591  [This, app, would, be, good, if, not, for, it,...  \n",
       "61592  [The, app, is, good, hard, to, navigate, and, ...  \n",
       "61593  [Its, good, but, sometimes, it, doesnt, load, ...  \n",
       "\n",
       "[61594 rows x 4 columns]"
      ]
     },
     "execution_count": 22,
     "metadata": {},
     "output_type": "execute_result"
    }
   ],
   "source": [
    "mydataclean_tok"
   ]
  },
  {
   "cell_type": "code",
   "execution_count": 36,
   "id": "9935eef3",
   "metadata": {},
   "outputs": [],
   "source": [
    "mydata_tokenized = mydataclean_tok.drop('Review', axis=1)"
   ]
  },
  {
   "cell_type": "code",
   "execution_count": 37,
   "id": "78597484",
   "metadata": {},
   "outputs": [],
   "source": [
    "#mydata_tokenized = mydata_tokenized.drop('Cleaned Reviews', axis=1)"
   ]
  },
  {
   "cell_type": "code",
   "execution_count": 38,
   "id": "46ef28bb",
   "metadata": {},
   "outputs": [
    {
     "data": {
      "text/html": [
       "<div>\n",
       "<style scoped>\n",
       "    .dataframe tbody tr th:only-of-type {\n",
       "        vertical-align: middle;\n",
       "    }\n",
       "\n",
       "    .dataframe tbody tr th {\n",
       "        vertical-align: top;\n",
       "    }\n",
       "\n",
       "    .dataframe thead th {\n",
       "        text-align: right;\n",
       "    }\n",
       "</style>\n",
       "<table border=\"1\" class=\"dataframe\">\n",
       "  <thead>\n",
       "    <tr style=\"text-align: right;\">\n",
       "      <th></th>\n",
       "      <th>Rating</th>\n",
       "      <th>Cleaned Reviews</th>\n",
       "      <th>tokenized_sents</th>\n",
       "    </tr>\n",
       "  </thead>\n",
       "  <tbody>\n",
       "    <tr>\n",
       "      <th>0</th>\n",
       "      <td>5</td>\n",
       "      <td>Great music service the audio is high quality ...</td>\n",
       "      <td>[Great, music, service, ,, the, audio, is, hig...</td>\n",
       "    </tr>\n",
       "    <tr>\n",
       "      <th>1</th>\n",
       "      <td>5</td>\n",
       "      <td>Please ignore previous negative rating This ap...</td>\n",
       "      <td>[Please, ignore, previous, negative, rating, ....</td>\n",
       "    </tr>\n",
       "    <tr>\n",
       "      <th>2</th>\n",
       "      <td>4</td>\n",
       "      <td>This pop up Get the best Spotify experience on...</td>\n",
       "      <td>[This, pop-up, ``, Get, the, best, Spotify, ex...</td>\n",
       "    </tr>\n",
       "    <tr>\n",
       "      <th>3</th>\n",
       "      <td>1</td>\n",
       "      <td>Really buggy and terrible to use as of recently</td>\n",
       "      <td>[Really, buggy, and, terrible, to, use, as, of...</td>\n",
       "    </tr>\n",
       "    <tr>\n",
       "      <th>4</th>\n",
       "      <td>1</td>\n",
       "      <td>Dear Spotify why do I get songs that I didn t ...</td>\n",
       "      <td>[Dear, Spotify, why, do, I, get, songs, that, ...</td>\n",
       "    </tr>\n",
       "  </tbody>\n",
       "</table>\n",
       "</div>"
      ],
      "text/plain": [
       "   Rating                                    Cleaned Reviews  \\\n",
       "0       5  Great music service the audio is high quality ...   \n",
       "1       5  Please ignore previous negative rating This ap...   \n",
       "2       4  This pop up Get the best Spotify experience on...   \n",
       "3       1    Really buggy and terrible to use as of recently   \n",
       "4       1  Dear Spotify why do I get songs that I didn t ...   \n",
       "\n",
       "                                     tokenized_sents  \n",
       "0  [Great, music, service, ,, the, audio, is, hig...  \n",
       "1  [Please, ignore, previous, negative, rating, ....  \n",
       "2  [This, pop-up, ``, Get, the, best, Spotify, ex...  \n",
       "3  [Really, buggy, and, terrible, to, use, as, of...  \n",
       "4  [Dear, Spotify, why, do, I, get, songs, that, ...  "
      ]
     },
     "execution_count": 38,
     "metadata": {},
     "output_type": "execute_result"
    }
   ],
   "source": [
    "mydata_tokenized.head()"
   ]
  },
  {
   "cell_type": "markdown",
   "id": "0517f65f",
   "metadata": {},
   "source": [
    "# Step 3: Enrichment – POS tagging"
   ]
  },
  {
   "cell_type": "code",
   "execution_count": 39,
   "id": "9257e6e8",
   "metadata": {},
   "outputs": [],
   "source": [
    "#mydatapos['tokenized_sents'] = mydata_tokenized.apply(lambda row: nltk.pos_tag(row['tokenized_sents']), axis=1)\n",
    "#mydata_tokenized['POS tagged'] = mydata_tokenized['Cleaned Reviews'].apply(token_stop_pos)\n",
    "#mydata.head()"
   ]
  },
  {
   "cell_type": "markdown",
   "id": "d427cd6f",
   "metadata": {},
   "source": [
    "# Step 4: Stopwords removal"
   ]
  },
  {
   "cell_type": "code",
   "execution_count": 43,
   "id": "525f4432",
   "metadata": {},
   "outputs": [],
   "source": [
    "from nltk.corpus import stopwords\n",
    "from nltk.corpus import wordnet\n",
    "from nltk import pos_tag"
   ]
  },
  {
   "cell_type": "code",
   "execution_count": 44,
   "id": "2aa545a2",
   "metadata": {},
   "outputs": [],
   "source": [
    "pos_dict = {'J':wordnet.ADJ, 'V':wordnet.VERB, 'N':wordnet.NOUN, 'R':wordnet.ADV}\n",
    "def token_stop_pos(text):\n",
    "    tags = pos_tag(word_tokenize(text))\n",
    "    newlist = []\n",
    "    for word, tag in tags:\n",
    "        if word.lower() not in set(stopwords.words('english')):\n",
    "            newlist.append(tuple([word, pos_dict.get(tag[0])]))\n",
    "    return newlist"
   ]
  },
  {
   "cell_type": "code",
   "execution_count": 45,
   "id": "5cad2a7b",
   "metadata": {},
   "outputs": [
    {
     "data": {
      "text/html": [
       "<div>\n",
       "<style scoped>\n",
       "    .dataframe tbody tr th:only-of-type {\n",
       "        vertical-align: middle;\n",
       "    }\n",
       "\n",
       "    .dataframe tbody tr th {\n",
       "        vertical-align: top;\n",
       "    }\n",
       "\n",
       "    .dataframe thead th {\n",
       "        text-align: right;\n",
       "    }\n",
       "</style>\n",
       "<table border=\"1\" class=\"dataframe\">\n",
       "  <thead>\n",
       "    <tr style=\"text-align: right;\">\n",
       "      <th></th>\n",
       "      <th>Rating</th>\n",
       "      <th>Cleaned Reviews</th>\n",
       "      <th>tokenized_sents</th>\n",
       "      <th>POS tagged</th>\n",
       "    </tr>\n",
       "  </thead>\n",
       "  <tbody>\n",
       "    <tr>\n",
       "      <th>0</th>\n",
       "      <td>5</td>\n",
       "      <td>Great music service the audio is high quality ...</td>\n",
       "      <td>[Great, music, service, ,, the, audio, is, hig...</td>\n",
       "      <td>[(Great, n), (music, n), (service, n), (audio,...</td>\n",
       "    </tr>\n",
       "    <tr>\n",
       "      <th>1</th>\n",
       "      <td>5</td>\n",
       "      <td>Please ignore previous negative rating This ap...</td>\n",
       "      <td>[Please, ignore, previous, negative, rating, ....</td>\n",
       "      <td>[(Please, n), (ignore, v), (previous, a), (neg...</td>\n",
       "    </tr>\n",
       "    <tr>\n",
       "      <th>2</th>\n",
       "      <td>4</td>\n",
       "      <td>This pop up Get the best Spotify experience on...</td>\n",
       "      <td>[This, pop-up, ``, Get, the, best, Spotify, ex...</td>\n",
       "      <td>[(pop, v), (Get, n), (best, a), (Spotify, a), ...</td>\n",
       "    </tr>\n",
       "    <tr>\n",
       "      <th>3</th>\n",
       "      <td>1</td>\n",
       "      <td>Really buggy and terrible to use as of recently</td>\n",
       "      <td>[Really, buggy, and, terrible, to, use, as, of...</td>\n",
       "      <td>[(Really, r), (buggy, a), (terrible, a), (use,...</td>\n",
       "    </tr>\n",
       "    <tr>\n",
       "      <th>4</th>\n",
       "      <td>1</td>\n",
       "      <td>Dear Spotify why do I get songs that I didn t ...</td>\n",
       "      <td>[Dear, Spotify, why, do, I, get, songs, that, ...</td>\n",
       "      <td>[(Dear, n), (Spotify, n), (get, v), (songs, n)...</td>\n",
       "    </tr>\n",
       "  </tbody>\n",
       "</table>\n",
       "</div>"
      ],
      "text/plain": [
       "   Rating                                    Cleaned Reviews  \\\n",
       "0       5  Great music service the audio is high quality ...   \n",
       "1       5  Please ignore previous negative rating This ap...   \n",
       "2       4  This pop up Get the best Spotify experience on...   \n",
       "3       1    Really buggy and terrible to use as of recently   \n",
       "4       1  Dear Spotify why do I get songs that I didn t ...   \n",
       "\n",
       "                                     tokenized_sents  \\\n",
       "0  [Great, music, service, ,, the, audio, is, hig...   \n",
       "1  [Please, ignore, previous, negative, rating, ....   \n",
       "2  [This, pop-up, ``, Get, the, best, Spotify, ex...   \n",
       "3  [Really, buggy, and, terrible, to, use, as, of...   \n",
       "4  [Dear, Spotify, why, do, I, get, songs, that, ...   \n",
       "\n",
       "                                          POS tagged  \n",
       "0  [(Great, n), (music, n), (service, n), (audio,...  \n",
       "1  [(Please, n), (ignore, v), (previous, a), (neg...  \n",
       "2  [(pop, v), (Get, n), (best, a), (Spotify, a), ...  \n",
       "3  [(Really, r), (buggy, a), (terrible, a), (use,...  \n",
       "4  [(Dear, n), (Spotify, n), (get, v), (songs, n)...  "
      ]
     },
     "execution_count": 45,
     "metadata": {},
     "output_type": "execute_result"
    }
   ],
   "source": [
    "mydata_tokenized['POS tagged'] = mydata_tokenized['Cleaned Reviews'].apply(token_stop_pos)\n",
    "mydata_tokenized.head()"
   ]
  },
  {
   "cell_type": "markdown",
   "id": "19897d73",
   "metadata": {},
   "source": [
    "# Step 5: Obtaining the stem words – Lemmatization"
   ]
  },
  {
   "cell_type": "code",
   "execution_count": 46,
   "id": "ba6282df",
   "metadata": {},
   "outputs": [],
   "source": [
    "from nltk.stem import WordNetLemmatizer\n",
    "wordnet_lemmatizer = WordNetLemmatizer()"
   ]
  },
  {
   "cell_type": "code",
   "execution_count": 49,
   "id": "6359293f",
   "metadata": {},
   "outputs": [],
   "source": [
    "def lemmatize(pos_data):\n",
    "    lemma_rew = \" \"\n",
    "    for word, pos in pos_data:\n",
    "        if not pos:\n",
    "            lemma = word\n",
    "            lemma_rew = lemma_rew + \" \" + lemma\n",
    "        else:\n",
    "            lemma = wordnet_lemmatizer.lemmatize(word, pos=pos)\n",
    "            lemma_rew = lemma_rew + \" \" + lemma\n",
    "    return lemma_rew"
   ]
  },
  {
   "cell_type": "code",
   "execution_count": 51,
   "id": "2c02fe08",
   "metadata": {},
   "outputs": [
    {
     "data": {
      "text/html": [
       "<div>\n",
       "<style scoped>\n",
       "    .dataframe tbody tr th:only-of-type {\n",
       "        vertical-align: middle;\n",
       "    }\n",
       "\n",
       "    .dataframe tbody tr th {\n",
       "        vertical-align: top;\n",
       "    }\n",
       "\n",
       "    .dataframe thead th {\n",
       "        text-align: right;\n",
       "    }\n",
       "</style>\n",
       "<table border=\"1\" class=\"dataframe\">\n",
       "  <thead>\n",
       "    <tr style=\"text-align: right;\">\n",
       "      <th></th>\n",
       "      <th>Rating</th>\n",
       "      <th>Cleaned Reviews</th>\n",
       "      <th>tokenized_sents</th>\n",
       "      <th>POS tagged</th>\n",
       "      <th>Lemma</th>\n",
       "    </tr>\n",
       "  </thead>\n",
       "  <tbody>\n",
       "    <tr>\n",
       "      <th>0</th>\n",
       "      <td>5</td>\n",
       "      <td>Great music service the audio is high quality ...</td>\n",
       "      <td>[Great, music, service, ,, the, audio, is, hig...</td>\n",
       "      <td>[(Great, n), (music, n), (service, n), (audio,...</td>\n",
       "      <td>Great music service audio high quality app e...</td>\n",
       "    </tr>\n",
       "    <tr>\n",
       "      <th>1</th>\n",
       "      <td>5</td>\n",
       "      <td>Please ignore previous negative rating This ap...</td>\n",
       "      <td>[Please, ignore, previous, negative, rating, ....</td>\n",
       "      <td>[(Please, n), (ignore, v), (previous, a), (neg...</td>\n",
       "      <td>Please ignore previous negative rating app s...</td>\n",
       "    </tr>\n",
       "    <tr>\n",
       "      <th>2</th>\n",
       "      <td>4</td>\n",
       "      <td>This pop up Get the best Spotify experience on...</td>\n",
       "      <td>[This, pop-up, ``, Get, the, best, Spotify, ex...</td>\n",
       "      <td>[(pop, v), (Get, n), (best, a), (Spotify, a), ...</td>\n",
       "      <td>pop Get best Spotify experience Android anno...</td>\n",
       "    </tr>\n",
       "    <tr>\n",
       "      <th>3</th>\n",
       "      <td>1</td>\n",
       "      <td>Really buggy and terrible to use as of recently</td>\n",
       "      <td>[Really, buggy, and, terrible, to, use, as, of...</td>\n",
       "      <td>[(Really, r), (buggy, a), (terrible, a), (use,...</td>\n",
       "      <td>Really buggy terrible use recently</td>\n",
       "    </tr>\n",
       "    <tr>\n",
       "      <th>4</th>\n",
       "      <td>1</td>\n",
       "      <td>Dear Spotify why do I get songs that I didn t ...</td>\n",
       "      <td>[Dear, Spotify, why, do, I, get, songs, that, ...</td>\n",
       "      <td>[(Dear, n), (Spotify, n), (get, v), (songs, n)...</td>\n",
       "      <td>Dear Spotify get song put playlist shuffle play</td>\n",
       "    </tr>\n",
       "  </tbody>\n",
       "</table>\n",
       "</div>"
      ],
      "text/plain": [
       "   Rating                                    Cleaned Reviews  \\\n",
       "0       5  Great music service the audio is high quality ...   \n",
       "1       5  Please ignore previous negative rating This ap...   \n",
       "2       4  This pop up Get the best Spotify experience on...   \n",
       "3       1    Really buggy and terrible to use as of recently   \n",
       "4       1  Dear Spotify why do I get songs that I didn t ...   \n",
       "\n",
       "                                     tokenized_sents  \\\n",
       "0  [Great, music, service, ,, the, audio, is, hig...   \n",
       "1  [Please, ignore, previous, negative, rating, ....   \n",
       "2  [This, pop-up, ``, Get, the, best, Spotify, ex...   \n",
       "3  [Really, buggy, and, terrible, to, use, as, of...   \n",
       "4  [Dear, Spotify, why, do, I, get, songs, that, ...   \n",
       "\n",
       "                                          POS tagged  \\\n",
       "0  [(Great, n), (music, n), (service, n), (audio,...   \n",
       "1  [(Please, n), (ignore, v), (previous, a), (neg...   \n",
       "2  [(pop, v), (Get, n), (best, a), (Spotify, a), ...   \n",
       "3  [(Really, r), (buggy, a), (terrible, a), (use,...   \n",
       "4  [(Dear, n), (Spotify, n), (get, v), (songs, n)...   \n",
       "\n",
       "                                               Lemma  \n",
       "0    Great music service audio high quality app e...  \n",
       "1    Please ignore previous negative rating app s...  \n",
       "2    pop Get best Spotify experience Android anno...  \n",
       "3                 Really buggy terrible use recently  \n",
       "4    Dear Spotify get song put playlist shuffle play  "
      ]
     },
     "execution_count": 51,
     "metadata": {},
     "output_type": "execute_result"
    }
   ],
   "source": [
    "mydata_tokenized['Lemma'] = mydata_tokenized['POS tagged'].apply(lemmatize)\n",
    "mydata_tokenized.head()"
   ]
  },
  {
   "cell_type": "code",
   "execution_count": 55,
   "id": "cb092c70",
   "metadata": {},
   "outputs": [
    {
     "data": {
      "text/html": [
       "<div>\n",
       "<style scoped>\n",
       "    .dataframe tbody tr th:only-of-type {\n",
       "        vertical-align: middle;\n",
       "    }\n",
       "\n",
       "    .dataframe tbody tr th {\n",
       "        vertical-align: top;\n",
       "    }\n",
       "\n",
       "    .dataframe thead th {\n",
       "        text-align: right;\n",
       "    }\n",
       "</style>\n",
       "<table border=\"1\" class=\"dataframe\">\n",
       "  <thead>\n",
       "    <tr style=\"text-align: right;\">\n",
       "      <th></th>\n",
       "      <th>Cleaned Reviews</th>\n",
       "      <th>Lemma</th>\n",
       "    </tr>\n",
       "  </thead>\n",
       "  <tbody>\n",
       "    <tr>\n",
       "      <th>0</th>\n",
       "      <td>Great music service the audio is high quality ...</td>\n",
       "      <td>Great music service audio high quality app e...</td>\n",
       "    </tr>\n",
       "    <tr>\n",
       "      <th>1</th>\n",
       "      <td>Please ignore previous negative rating This ap...</td>\n",
       "      <td>Please ignore previous negative rating app s...</td>\n",
       "    </tr>\n",
       "    <tr>\n",
       "      <th>2</th>\n",
       "      <td>This pop up Get the best Spotify experience on...</td>\n",
       "      <td>pop Get best Spotify experience Android anno...</td>\n",
       "    </tr>\n",
       "    <tr>\n",
       "      <th>3</th>\n",
       "      <td>Really buggy and terrible to use as of recently</td>\n",
       "      <td>Really buggy terrible use recently</td>\n",
       "    </tr>\n",
       "    <tr>\n",
       "      <th>4</th>\n",
       "      <td>Dear Spotify why do I get songs that I didn t ...</td>\n",
       "      <td>Dear Spotify get song put playlist shuffle play</td>\n",
       "    </tr>\n",
       "    <tr>\n",
       "      <th>...</th>\n",
       "      <td>...</td>\n",
       "      <td>...</td>\n",
       "    </tr>\n",
       "    <tr>\n",
       "      <th>61589</th>\n",
       "      <td>Even though it was communicated that lyrics fe...</td>\n",
       "      <td>Even though communicate lyric feature availa...</td>\n",
       "    </tr>\n",
       "    <tr>\n",
       "      <th>61590</th>\n",
       "      <td>Use to be sooo good back when I had it and whe...</td>\n",
       "      <td>Use sooo good back download free version pic...</td>\n",
       "    </tr>\n",
       "    <tr>\n",
       "      <th>61591</th>\n",
       "      <td>This app would be good if not for it taking ov...</td>\n",
       "      <td>app would good take device start comp Spotif...</td>\n",
       "    </tr>\n",
       "    <tr>\n",
       "      <th>61592</th>\n",
       "      <td>The app is good hard to navigate and won t jus...</td>\n",
       "      <td>app good hard navigate let play song click p...</td>\n",
       "    </tr>\n",
       "    <tr>\n",
       "      <th>61593</th>\n",
       "      <td>Its good but sometimes it doesnt load the musi...</td>\n",
       "      <td>good sometimes doesnt load music play like s...</td>\n",
       "    </tr>\n",
       "  </tbody>\n",
       "</table>\n",
       "<p>61594 rows × 2 columns</p>\n",
       "</div>"
      ],
      "text/plain": [
       "                                         Cleaned Reviews  \\\n",
       "0      Great music service the audio is high quality ...   \n",
       "1      Please ignore previous negative rating This ap...   \n",
       "2      This pop up Get the best Spotify experience on...   \n",
       "3        Really buggy and terrible to use as of recently   \n",
       "4      Dear Spotify why do I get songs that I didn t ...   \n",
       "...                                                  ...   \n",
       "61589  Even though it was communicated that lyrics fe...   \n",
       "61590  Use to be sooo good back when I had it and whe...   \n",
       "61591  This app would be good if not for it taking ov...   \n",
       "61592  The app is good hard to navigate and won t jus...   \n",
       "61593  Its good but sometimes it doesnt load the musi...   \n",
       "\n",
       "                                                   Lemma  \n",
       "0        Great music service audio high quality app e...  \n",
       "1        Please ignore previous negative rating app s...  \n",
       "2        pop Get best Spotify experience Android anno...  \n",
       "3                     Really buggy terrible use recently  \n",
       "4        Dear Spotify get song put playlist shuffle play  \n",
       "...                                                  ...  \n",
       "61589    Even though communicate lyric feature availa...  \n",
       "61590    Use sooo good back download free version pic...  \n",
       "61591    app would good take device start comp Spotif...  \n",
       "61592    app good hard navigate let play song click p...  \n",
       "61593    good sometimes doesnt load music play like s...  \n",
       "\n",
       "[61594 rows x 2 columns]"
      ]
     },
     "execution_count": 55,
     "metadata": {},
     "output_type": "execute_result"
    }
   ],
   "source": [
    "mydata_tokenized[['Cleaned Reviews','Lemma']]"
   ]
  },
  {
   "cell_type": "markdown",
   "id": "35d5f8d2",
   "metadata": {},
   "source": [
    "# Sentiment Analysis using TextBlob: Try As Assignment - CO1. Next Week Submission."
   ]
  },
  {
   "cell_type": "markdown",
   "id": "8e7402ff",
   "metadata": {},
   "source": [
    "# ## reviews.txt Dataset"
   ]
  },
  {
   "cell_type": "markdown",
   "id": "dc571d80",
   "metadata": {},
   "source": [
    "# Sentiment Analysis using VADER"
   ]
  },
  {
   "cell_type": "markdown",
   "id": "55abc3d0",
   "metadata": {},
   "source": [
    "# VADER stands for Valence Aware Dictionary and Sentiment Reasoner. Vader sentiment not only tells if the statement is positive or negative along with the intensity of emotion."
   ]
  },
  {
   "cell_type": "code",
   "execution_count": 56,
   "id": "b76ff582",
   "metadata": {},
   "outputs": [],
   "source": [
    "from vaderSentiment.vaderSentiment import SentimentIntensityAnalyzer"
   ]
  },
  {
   "cell_type": "code",
   "execution_count": 57,
   "id": "a33b9782",
   "metadata": {},
   "outputs": [],
   "source": [
    "analyzer = SentimentIntensityAnalyzer()"
   ]
  },
  {
   "cell_type": "markdown",
   "id": "fd813428",
   "metadata": {},
   "source": [
    "# function to calculate vader sentiment"
   ]
  },
  {
   "cell_type": "code",
   "execution_count": 61,
   "id": "f91252a6",
   "metadata": {},
   "outputs": [],
   "source": [
    "def vadersentimentanalysis(Review):\n",
    "    vs = analyzer.polarity_scores(Review)\n",
    "    return vs['compound']\n",
    "mydata_tokenized['Vader Sentiment'] = mydata_tokenized['Lemma'].apply(vadersentimentanalysis)"
   ]
  },
  {
   "cell_type": "code",
   "execution_count": 62,
   "id": "c058dded",
   "metadata": {},
   "outputs": [
    {
     "data": {
      "text/html": [
       "<div>\n",
       "<style scoped>\n",
       "    .dataframe tbody tr th:only-of-type {\n",
       "        vertical-align: middle;\n",
       "    }\n",
       "\n",
       "    .dataframe tbody tr th {\n",
       "        vertical-align: top;\n",
       "    }\n",
       "\n",
       "    .dataframe thead th {\n",
       "        text-align: right;\n",
       "    }\n",
       "</style>\n",
       "<table border=\"1\" class=\"dataframe\">\n",
       "  <thead>\n",
       "    <tr style=\"text-align: right;\">\n",
       "      <th></th>\n",
       "      <th>Rating</th>\n",
       "      <th>Cleaned Reviews</th>\n",
       "      <th>tokenized_sents</th>\n",
       "      <th>POS tagged</th>\n",
       "      <th>Lemma</th>\n",
       "      <th>Vader Sentiment</th>\n",
       "    </tr>\n",
       "  </thead>\n",
       "  <tbody>\n",
       "    <tr>\n",
       "      <th>0</th>\n",
       "      <td>5</td>\n",
       "      <td>Great music service the audio is high quality ...</td>\n",
       "      <td>[Great, music, service, ,, the, audio, is, hig...</td>\n",
       "      <td>[(Great, n), (music, n), (service, n), (audio,...</td>\n",
       "      <td>Great music service audio high quality app e...</td>\n",
       "      <td>0.9169</td>\n",
       "    </tr>\n",
       "    <tr>\n",
       "      <th>1</th>\n",
       "      <td>5</td>\n",
       "      <td>Please ignore previous negative rating This ap...</td>\n",
       "      <td>[Please, ignore, previous, negative, rating, ....</td>\n",
       "      <td>[(Please, n), (ignore, v), (previous, a), (neg...</td>\n",
       "      <td>Please ignore previous negative rating app s...</td>\n",
       "      <td>0.6249</td>\n",
       "    </tr>\n",
       "    <tr>\n",
       "      <th>2</th>\n",
       "      <td>4</td>\n",
       "      <td>This pop up Get the best Spotify experience on...</td>\n",
       "      <td>[This, pop-up, ``, Get, the, best, Spotify, ex...</td>\n",
       "      <td>[(pop, v), (Get, n), (best, a), (Spotify, a), ...</td>\n",
       "      <td>pop Get best Spotify experience Android anno...</td>\n",
       "      <td>0.5859</td>\n",
       "    </tr>\n",
       "    <tr>\n",
       "      <th>3</th>\n",
       "      <td>1</td>\n",
       "      <td>Really buggy and terrible to use as of recently</td>\n",
       "      <td>[Really, buggy, and, terrible, to, use, as, of...</td>\n",
       "      <td>[(Really, r), (buggy, a), (terrible, a), (use,...</td>\n",
       "      <td>Really buggy terrible use recently</td>\n",
       "      <td>-0.5233</td>\n",
       "    </tr>\n",
       "    <tr>\n",
       "      <th>4</th>\n",
       "      <td>1</td>\n",
       "      <td>Dear Spotify why do I get songs that I didn t ...</td>\n",
       "      <td>[Dear, Spotify, why, do, I, get, songs, that, ...</td>\n",
       "      <td>[(Dear, n), (Spotify, n), (get, v), (songs, n)...</td>\n",
       "      <td>Dear Spotify get song put playlist shuffle play</td>\n",
       "      <td>0.6124</td>\n",
       "    </tr>\n",
       "    <tr>\n",
       "      <th>...</th>\n",
       "      <td>...</td>\n",
       "      <td>...</td>\n",
       "      <td>...</td>\n",
       "      <td>...</td>\n",
       "      <td>...</td>\n",
       "      <td>...</td>\n",
       "    </tr>\n",
       "    <tr>\n",
       "      <th>61589</th>\n",
       "      <td>1</td>\n",
       "      <td>Even though it was communicated that lyrics fe...</td>\n",
       "      <td>[Even, though, it, was, communicated, that, ly...</td>\n",
       "      <td>[(Even, r), (though, None), (communicated, v),...</td>\n",
       "      <td>Even though communicate lyric feature availa...</td>\n",
       "      <td>-0.1779</td>\n",
       "    </tr>\n",
       "    <tr>\n",
       "      <th>61590</th>\n",
       "      <td>1</td>\n",
       "      <td>Use to be sooo good back when I had it and whe...</td>\n",
       "      <td>[Use, to, be, sooo, good, back, when, I, had, ...</td>\n",
       "      <td>[(Use, n), (sooo, v), (good, a), (back, r), (d...</td>\n",
       "      <td>Use sooo good back download free version pic...</td>\n",
       "      <td>0.9100</td>\n",
       "    </tr>\n",
       "    <tr>\n",
       "      <th>61591</th>\n",
       "      <td>2</td>\n",
       "      <td>This app would be good if not for it taking ov...</td>\n",
       "      <td>[This, app, would, be, good, if, not, for, it,...</td>\n",
       "      <td>[(app, n), (would, None), (good, a), (taking, ...</td>\n",
       "      <td>app would good take device start comp Spotif...</td>\n",
       "      <td>-0.8363</td>\n",
       "    </tr>\n",
       "    <tr>\n",
       "      <th>61592</th>\n",
       "      <td>2</td>\n",
       "      <td>The app is good hard to navigate and won t jus...</td>\n",
       "      <td>[The, app, is, good, hard, to, navigate, and, ...</td>\n",
       "      <td>[(app, n), (good, a), (hard, r), (navigate, v)...</td>\n",
       "      <td>app good hard navigate let play song click p...</td>\n",
       "      <td>0.8271</td>\n",
       "    </tr>\n",
       "    <tr>\n",
       "      <th>61593</th>\n",
       "      <td>4</td>\n",
       "      <td>Its good but sometimes it doesnt load the musi...</td>\n",
       "      <td>[Its, good, but, sometimes, it, doesnt, load, ...</td>\n",
       "      <td>[(good, a), (sometimes, v), (doesnt, a), (load...</td>\n",
       "      <td>good sometimes doesnt load music play like s...</td>\n",
       "      <td>0.7402</td>\n",
       "    </tr>\n",
       "  </tbody>\n",
       "</table>\n",
       "<p>61594 rows × 6 columns</p>\n",
       "</div>"
      ],
      "text/plain": [
       "       Rating                                    Cleaned Reviews  \\\n",
       "0           5  Great music service the audio is high quality ...   \n",
       "1           5  Please ignore previous negative rating This ap...   \n",
       "2           4  This pop up Get the best Spotify experience on...   \n",
       "3           1    Really buggy and terrible to use as of recently   \n",
       "4           1  Dear Spotify why do I get songs that I didn t ...   \n",
       "...       ...                                                ...   \n",
       "61589       1  Even though it was communicated that lyrics fe...   \n",
       "61590       1  Use to be sooo good back when I had it and whe...   \n",
       "61591       2  This app would be good if not for it taking ov...   \n",
       "61592       2  The app is good hard to navigate and won t jus...   \n",
       "61593       4  Its good but sometimes it doesnt load the musi...   \n",
       "\n",
       "                                         tokenized_sents  \\\n",
       "0      [Great, music, service, ,, the, audio, is, hig...   \n",
       "1      [Please, ignore, previous, negative, rating, ....   \n",
       "2      [This, pop-up, ``, Get, the, best, Spotify, ex...   \n",
       "3      [Really, buggy, and, terrible, to, use, as, of...   \n",
       "4      [Dear, Spotify, why, do, I, get, songs, that, ...   \n",
       "...                                                  ...   \n",
       "61589  [Even, though, it, was, communicated, that, ly...   \n",
       "61590  [Use, to, be, sooo, good, back, when, I, had, ...   \n",
       "61591  [This, app, would, be, good, if, not, for, it,...   \n",
       "61592  [The, app, is, good, hard, to, navigate, and, ...   \n",
       "61593  [Its, good, but, sometimes, it, doesnt, load, ...   \n",
       "\n",
       "                                              POS tagged  \\\n",
       "0      [(Great, n), (music, n), (service, n), (audio,...   \n",
       "1      [(Please, n), (ignore, v), (previous, a), (neg...   \n",
       "2      [(pop, v), (Get, n), (best, a), (Spotify, a), ...   \n",
       "3      [(Really, r), (buggy, a), (terrible, a), (use,...   \n",
       "4      [(Dear, n), (Spotify, n), (get, v), (songs, n)...   \n",
       "...                                                  ...   \n",
       "61589  [(Even, r), (though, None), (communicated, v),...   \n",
       "61590  [(Use, n), (sooo, v), (good, a), (back, r), (d...   \n",
       "61591  [(app, n), (would, None), (good, a), (taking, ...   \n",
       "61592  [(app, n), (good, a), (hard, r), (navigate, v)...   \n",
       "61593  [(good, a), (sometimes, v), (doesnt, a), (load...   \n",
       "\n",
       "                                                   Lemma  Vader Sentiment  \n",
       "0        Great music service audio high quality app e...           0.9169  \n",
       "1        Please ignore previous negative rating app s...           0.6249  \n",
       "2        pop Get best Spotify experience Android anno...           0.5859  \n",
       "3                     Really buggy terrible use recently          -0.5233  \n",
       "4        Dear Spotify get song put playlist shuffle play           0.6124  \n",
       "...                                                  ...              ...  \n",
       "61589    Even though communicate lyric feature availa...          -0.1779  \n",
       "61590    Use sooo good back download free version pic...           0.9100  \n",
       "61591    app would good take device start comp Spotif...          -0.8363  \n",
       "61592    app good hard navigate let play song click p...           0.8271  \n",
       "61593    good sometimes doesnt load music play like s...           0.7402  \n",
       "\n",
       "[61594 rows x 6 columns]"
      ]
     },
     "execution_count": 62,
     "metadata": {},
     "output_type": "execute_result"
    }
   ],
   "source": [
    "mydata_tokenized"
   ]
  },
  {
   "cell_type": "code",
   "execution_count": 63,
   "id": "217f23d8",
   "metadata": {},
   "outputs": [],
   "source": [
    "def vader_analysis(compound):\n",
    "    if compound >= 0.5:\n",
    "        return 'Positive'\n",
    "    elif compound <= -0.5 :\n",
    "        return 'Negative'\n",
    "    else:\n",
    "        return 'Neutral'"
   ]
  },
  {
   "cell_type": "code",
   "execution_count": 64,
   "id": "ecd07755",
   "metadata": {},
   "outputs": [
    {
     "data": {
      "text/html": [
       "<div>\n",
       "<style scoped>\n",
       "    .dataframe tbody tr th:only-of-type {\n",
       "        vertical-align: middle;\n",
       "    }\n",
       "\n",
       "    .dataframe tbody tr th {\n",
       "        vertical-align: top;\n",
       "    }\n",
       "\n",
       "    .dataframe thead th {\n",
       "        text-align: right;\n",
       "    }\n",
       "</style>\n",
       "<table border=\"1\" class=\"dataframe\">\n",
       "  <thead>\n",
       "    <tr style=\"text-align: right;\">\n",
       "      <th></th>\n",
       "      <th>Rating</th>\n",
       "      <th>Cleaned Reviews</th>\n",
       "      <th>tokenized_sents</th>\n",
       "      <th>POS tagged</th>\n",
       "      <th>Lemma</th>\n",
       "      <th>Vader Sentiment</th>\n",
       "      <th>Vader Analysis</th>\n",
       "    </tr>\n",
       "  </thead>\n",
       "  <tbody>\n",
       "    <tr>\n",
       "      <th>0</th>\n",
       "      <td>5</td>\n",
       "      <td>Great music service the audio is high quality ...</td>\n",
       "      <td>[Great, music, service, ,, the, audio, is, hig...</td>\n",
       "      <td>[(Great, n), (music, n), (service, n), (audio,...</td>\n",
       "      <td>Great music service audio high quality app e...</td>\n",
       "      <td>0.9169</td>\n",
       "      <td>Positive</td>\n",
       "    </tr>\n",
       "    <tr>\n",
       "      <th>1</th>\n",
       "      <td>5</td>\n",
       "      <td>Please ignore previous negative rating This ap...</td>\n",
       "      <td>[Please, ignore, previous, negative, rating, ....</td>\n",
       "      <td>[(Please, n), (ignore, v), (previous, a), (neg...</td>\n",
       "      <td>Please ignore previous negative rating app s...</td>\n",
       "      <td>0.6249</td>\n",
       "      <td>Positive</td>\n",
       "    </tr>\n",
       "    <tr>\n",
       "      <th>2</th>\n",
       "      <td>4</td>\n",
       "      <td>This pop up Get the best Spotify experience on...</td>\n",
       "      <td>[This, pop-up, ``, Get, the, best, Spotify, ex...</td>\n",
       "      <td>[(pop, v), (Get, n), (best, a), (Spotify, a), ...</td>\n",
       "      <td>pop Get best Spotify experience Android anno...</td>\n",
       "      <td>0.5859</td>\n",
       "      <td>Positive</td>\n",
       "    </tr>\n",
       "    <tr>\n",
       "      <th>3</th>\n",
       "      <td>1</td>\n",
       "      <td>Really buggy and terrible to use as of recently</td>\n",
       "      <td>[Really, buggy, and, terrible, to, use, as, of...</td>\n",
       "      <td>[(Really, r), (buggy, a), (terrible, a), (use,...</td>\n",
       "      <td>Really buggy terrible use recently</td>\n",
       "      <td>-0.5233</td>\n",
       "      <td>Negative</td>\n",
       "    </tr>\n",
       "    <tr>\n",
       "      <th>4</th>\n",
       "      <td>1</td>\n",
       "      <td>Dear Spotify why do I get songs that I didn t ...</td>\n",
       "      <td>[Dear, Spotify, why, do, I, get, songs, that, ...</td>\n",
       "      <td>[(Dear, n), (Spotify, n), (get, v), (songs, n)...</td>\n",
       "      <td>Dear Spotify get song put playlist shuffle play</td>\n",
       "      <td>0.6124</td>\n",
       "      <td>Positive</td>\n",
       "    </tr>\n",
       "  </tbody>\n",
       "</table>\n",
       "</div>"
      ],
      "text/plain": [
       "   Rating                                    Cleaned Reviews  \\\n",
       "0       5  Great music service the audio is high quality ...   \n",
       "1       5  Please ignore previous negative rating This ap...   \n",
       "2       4  This pop up Get the best Spotify experience on...   \n",
       "3       1    Really buggy and terrible to use as of recently   \n",
       "4       1  Dear Spotify why do I get songs that I didn t ...   \n",
       "\n",
       "                                     tokenized_sents  \\\n",
       "0  [Great, music, service, ,, the, audio, is, hig...   \n",
       "1  [Please, ignore, previous, negative, rating, ....   \n",
       "2  [This, pop-up, ``, Get, the, best, Spotify, ex...   \n",
       "3  [Really, buggy, and, terrible, to, use, as, of...   \n",
       "4  [Dear, Spotify, why, do, I, get, songs, that, ...   \n",
       "\n",
       "                                          POS tagged  \\\n",
       "0  [(Great, n), (music, n), (service, n), (audio,...   \n",
       "1  [(Please, n), (ignore, v), (previous, a), (neg...   \n",
       "2  [(pop, v), (Get, n), (best, a), (Spotify, a), ...   \n",
       "3  [(Really, r), (buggy, a), (terrible, a), (use,...   \n",
       "4  [(Dear, n), (Spotify, n), (get, v), (songs, n)...   \n",
       "\n",
       "                                               Lemma  Vader Sentiment  \\\n",
       "0    Great music service audio high quality app e...           0.9169   \n",
       "1    Please ignore previous negative rating app s...           0.6249   \n",
       "2    pop Get best Spotify experience Android anno...           0.5859   \n",
       "3                 Really buggy terrible use recently          -0.5233   \n",
       "4    Dear Spotify get song put playlist shuffle play           0.6124   \n",
       "\n",
       "  Vader Analysis  \n",
       "0       Positive  \n",
       "1       Positive  \n",
       "2       Positive  \n",
       "3       Negative  \n",
       "4       Positive  "
      ]
     },
     "execution_count": 64,
     "metadata": {},
     "output_type": "execute_result"
    }
   ],
   "source": [
    "mydata_tokenized['Vader Analysis'] = mydata_tokenized['Vader Sentiment'].apply(vader_analysis)\n",
    "mydata_tokenized.head()"
   ]
  },
  {
   "cell_type": "markdown",
   "id": "049f2cc6",
   "metadata": {},
   "source": [
    "# Count the number of positive, negative, neutral reviews."
   ]
  },
  {
   "cell_type": "code",
   "execution_count": 66,
   "id": "3e9eb55f",
   "metadata": {},
   "outputs": [
    {
     "data": {
      "text/plain": [
       "Positive    31252\n",
       "Neutral     25471\n",
       "Negative     4871\n",
       "Name: Vader Analysis, dtype: int64"
      ]
     },
     "execution_count": 66,
     "metadata": {},
     "output_type": "execute_result"
    }
   ],
   "source": [
    "vader_counts = mydata_tokenized['Vader Analysis'].value_counts()\n",
    "vader_counts"
   ]
  },
  {
   "cell_type": "markdown",
   "id": "15a85328",
   "metadata": {},
   "source": [
    "# Sentiment Analysis using SentiWordNet - And Compare all the three Sentiment Analysis APIs - Assignment 2 Co1"
   ]
  },
  {
   "cell_type": "code",
   "execution_count": 67,
   "id": "1a916086",
   "metadata": {},
   "outputs": [
    {
     "data": {
      "text/plain": [
       "<Figure size 1080x504 with 0 Axes>"
      ]
     },
     "execution_count": 67,
     "metadata": {},
     "output_type": "execute_result"
    },
    {
     "data": {
      "text/plain": [
       "<Figure size 1080x504 with 0 Axes>"
      ]
     },
     "metadata": {},
     "output_type": "display_data"
    }
   ],
   "source": [
    "import matplotlib.pyplot as plt\n",
    "%matplotlib inline\n",
    "plt.figure(figsize=(15,7))"
   ]
  },
  {
   "cell_type": "code",
   "execution_count": 68,
   "id": "406c3db7",
   "metadata": {},
   "outputs": [
    {
     "data": {
      "text/plain": [
       "([<matplotlib.patches.Wedge at 0x2218df244c0>,\n",
       "  <matplotlib.patches.Wedge at 0x2218df24910>,\n",
       "  <matplotlib.patches.Wedge at 0x2218df24fa0>],\n",
       " [Text(-0.0255256992997206, 1.099703795881082, 'Positive'),\n",
       "  Text(-0.24567147167118042, -1.0722152433196035, 'Neutral'),\n",
       "  Text(1.3085496936431784, -0.33196038809825507, 'Negative')],\n",
       " [Text(-0.013923108708938509, 0.5998384341169538, '50.7%'),\n",
       "  Text(-0.13400262091155293, -0.5848446781743291, '41.4%'),\n",
       "  Text(0.8239016589605197, -0.2090120962100124, '7.9%')])"
      ]
     },
     "execution_count": 68,
     "metadata": {},
     "output_type": "execute_result"
    },
    {
     "data": {
      "image/png": "[encoded data removed]",
      "text/plain": [
       "<Figure size 432x288 with 1 Axes>"
      ]
     },
     "metadata": {},
     "output_type": "display_data"
    }
   ],
   "source": [
    "plt.subplot(1,3,2)\n",
    "plt.title(\"VADER results\")\n",
    "plt.pie(vader_counts.values, labels = vader_counts.index, \n",
    "        explode = (0, 0, 0.25), autopct='%1.1f%%', shadow=False)"
   ]
  },
  {
   "cell_type": "code",
   "execution_count": null,
   "id": "d68a9ca7",
   "metadata": {},
   "outputs": [],
   "source": []
  }
 ],
 "metadata": {
  "kernelspec": {
   "display_name": "Python 3",
   "language": "python",
   "name": "python3"
  },
  "language_info": {
   "codemirror_mode": {
    "name": "ipython",
    "version": 3
   },
   "file_extension": ".py",
   "mimetype": "text/x-python",
   "name": "python",
   "nbconvert_exporter": "python",
   "pygments_lexer": "ipython3",
   "version": "3.8.8"
  }
 },
 "nbformat": 4,
 "nbformat_minor": 5
}
