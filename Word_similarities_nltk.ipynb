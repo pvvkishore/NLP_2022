{
 "cells": [
  {
   "cell_type": "code",
   "execution_count": 1,
   "id": "7ec07dfc",
   "metadata": {},
   "outputs": [],
   "source": [
    "from sklearn.feature_extraction.text import CountVectorizer\n",
    "from sklearn.metrics.pairwise import euclidean_distances"
   ]
  },
  {
   "cell_type": "code",
   "execution_count": 2,
   "id": "da99783b",
   "metadata": {},
   "outputs": [],
   "source": [
    "corpus = [\n",
    "'All my cats in a row',\n",
    "'When my cat sits down, she looks like a Furby toy!',\n",
    "'The cat from outer space',\n",
    "'Sunshine loves to sit like this for some reason.'\n",
    "]"
   ]
  },
  {
   "cell_type": "code",
   "execution_count": 3,
   "id": "4e8750d8",
   "metadata": {},
   "outputs": [],
   "source": [
    "corpus = ['good','okay']\n",
    "corpus = ['bad','bar']"
   ]
  },
  {
   "cell_type": "code",
   "execution_count": 4,
   "id": "3ca5ed79",
   "metadata": {},
   "outputs": [],
   "source": [
    "vectorizer = CountVectorizer()"
   ]
  },
  {
   "cell_type": "code",
   "execution_count": 5,
   "id": "fe5fab41",
   "metadata": {},
   "outputs": [
    {
     "name": "stdout",
     "output_type": "stream",
     "text": [
      "{'bad': 0, 'bar': 1}\n"
     ]
    }
   ],
   "source": [
    "features = vectorizer.fit_transform(corpus).todense() \n",
    "print( vectorizer.vocabulary_ )"
   ]
  },
  {
   "cell_type": "code",
   "execution_count": 6,
   "id": "f735e5f9",
   "metadata": {},
   "outputs": [
    {
     "name": "stdout",
     "output_type": "stream",
     "text": [
      "[[0.]]\n",
      "[[1.41421356]]\n"
     ]
    }
   ],
   "source": [
    "for f in features:\n",
    "    print( euclidean_distances(features[0], f) )"
   ]
  },
  {
   "cell_type": "markdown",
   "id": "02386afa",
   "metadata": {},
   "source": [
    "# Finding Distnace"
   ]
  },
  {
   "cell_type": "markdown",
   "id": "516c6f3e",
   "metadata": {},
   "source": [
    "# pip install nltk\n",
    "# pip install gensim"
   ]
  },
  {
   "cell_type": "code",
   "execution_count": 9,
   "id": "71619426",
   "metadata": {},
   "outputs": [],
   "source": [
    "#from gensim.test.utils import common_texts\n",
    "from gensim.test.utils import lee_corpus_list,common_texts\n",
    "from gensim.models import Word2Vec"
   ]
  },
  {
   "cell_type": "code",
   "execution_count": 10,
   "id": "5b1fca3f",
   "metadata": {},
   "outputs": [],
   "source": [
    "model = Word2Vec(sentences=common_texts, vector_size=100, window=5, min_count=1, workers=4)"
   ]
  },
  {
   "cell_type": "code",
   "execution_count": 11,
   "id": "89267342",
   "metadata": {},
   "outputs": [
    {
     "data": {
      "text/plain": [
       "(0, 20)"
      ]
     },
     "execution_count": 11,
     "metadata": {},
     "output_type": "execute_result"
    }
   ],
   "source": [
    "model.train([[\"good\", \"okay\"]], total_examples=2, epochs=10)"
   ]
  },
  {
   "cell_type": "code",
   "execution_count": 12,
   "id": "8402c72c",
   "metadata": {},
   "outputs": [],
   "source": [
    "word_vectors = model.wv"
   ]
  },
  {
   "cell_type": "code",
   "execution_count": 14,
   "id": "e1eecfda",
   "metadata": {},
   "outputs": [
    {
     "name": "stdout",
     "output_type": "stream",
     "text": [
      "[-5.3622725e-04  2.3643016e-04  5.1033497e-03  9.0092728e-03\n",
      " -9.3029495e-03 -7.1168090e-03  6.4588715e-03  8.9729885e-03\n",
      " -5.0154282e-03 -3.7633730e-03  7.3805046e-03 -1.5334726e-03\n",
      " -4.5366143e-03  6.5540504e-03 -4.8601604e-03 -1.8160177e-03\n",
      "  2.8765798e-03  9.9187379e-04 -8.2852151e-03 -9.4488189e-03\n",
      "  7.3117660e-03  5.0702621e-03  6.7576934e-03  7.6286553e-04\n",
      "  6.3508893e-03 -3.4053659e-03 -9.4640255e-04  5.7685734e-03\n",
      " -7.5216386e-03 -3.9361049e-03 -7.5115822e-03 -9.3004224e-04\n",
      "  9.5381187e-03 -7.3191668e-03 -2.3337698e-03 -1.9377422e-03\n",
      "  8.0774352e-03 -5.9308959e-03  4.5161247e-05 -4.7537349e-03\n",
      " -9.6035507e-03  5.0072931e-03 -8.7595871e-03 -4.3918253e-03\n",
      " -3.5099984e-05 -2.9618264e-04 -7.6612402e-03  9.6147414e-03\n",
      "  4.9820566e-03  9.2331432e-03 -8.1579182e-03  4.4957972e-03\n",
      " -4.1370774e-03  8.2453492e-04  8.4986184e-03 -4.4621779e-03\n",
      "  4.5175003e-03 -6.7869616e-03 -3.5484887e-03  9.3985079e-03\n",
      " -1.5776539e-03  3.2137157e-04 -4.1406299e-03 -7.6826881e-03\n",
      " -1.5080094e-03  2.4697948e-03 -8.8802812e-04  5.5336617e-03\n",
      " -2.7429771e-03  2.2600652e-03  5.4557943e-03  8.3459523e-03\n",
      " -1.4537406e-03 -9.2081428e-03  4.3705511e-03  5.7178497e-04\n",
      "  7.4419067e-03 -8.1328390e-04 -2.6384138e-03 -8.7530091e-03\n",
      " -8.5655687e-04  2.8265619e-03  5.4014279e-03  7.0526553e-03\n",
      " -5.7031228e-03  1.8588186e-03  6.0888622e-03 -4.7980524e-03\n",
      " -3.1072616e-03  6.7976285e-03  1.6314745e-03  1.8991709e-04\n",
      "  3.4736372e-03  2.1777629e-04  9.6188262e-03  5.0606038e-03\n",
      " -8.9173913e-03 -7.0415614e-03  9.0145587e-04  6.3925339e-03]\n"
     ]
    }
   ],
   "source": [
    "for vec in word_vectors:\n",
    "    print(vec)\n",
    "    break"
   ]
  },
  {
   "cell_type": "code",
   "execution_count": 15,
   "id": "71d75350",
   "metadata": {},
   "outputs": [],
   "source": [
    "import gensim.downloader as api"
   ]
  },
  {
   "cell_type": "code",
   "execution_count": 16,
   "id": "60b55dcc",
   "metadata": {},
   "outputs": [],
   "source": [
    "word_vectors = api.load(\"glove-wiki-gigaword-100\")  # load pre-trained word-vectors from gensim-data"
   ]
  },
  {
   "cell_type": "markdown",
   "id": "2b4a2c73",
   "metadata": {},
   "source": [
    "# Check the \"most similar words\", using the default \"cosine similarity\" measure."
   ]
  },
  {
   "cell_type": "code",
   "execution_count": 17,
   "id": "557ad98c",
   "metadata": {},
   "outputs": [],
   "source": [
    "result = word_vectors.most_similar(positive=['woman', 'king'], negative=['man'])"
   ]
  },
  {
   "cell_type": "code",
   "execution_count": 18,
   "id": "16d339da",
   "metadata": {},
   "outputs": [],
   "source": [
    "most_similar_key, similarity = result[0]  # look at the first match"
   ]
  },
  {
   "cell_type": "code",
   "execution_count": 19,
   "id": "e6e56e40",
   "metadata": {},
   "outputs": [
    {
     "name": "stdout",
     "output_type": "stream",
     "text": [
      "queen: 0.7699\n"
     ]
    }
   ],
   "source": [
    "print(f\"{most_similar_key}: {similarity:.4f}\")"
   ]
  },
  {
   "cell_type": "code",
   "execution_count": 20,
   "id": "eef2f572",
   "metadata": {},
   "outputs": [],
   "source": [
    "distance = word_vectors.distance(\"media\", \"media\")"
   ]
  },
  {
   "cell_type": "code",
   "execution_count": 21,
   "id": "998d9177",
   "metadata": {},
   "outputs": [
    {
     "name": "stdout",
     "output_type": "stream",
     "text": [
      "0.0\n"
     ]
    }
   ],
   "source": [
    "print(f\"{distance:.1f}\")"
   ]
  },
  {
   "cell_type": "code",
   "execution_count": 32,
   "id": "dd430c01",
   "metadata": {},
   "outputs": [
    {
     "name": "stdout",
     "output_type": "stream",
     "text": [
      "0.6\n"
     ]
    }
   ],
   "source": [
    "distance = word_vectors.distance(\"good\", \"pool\")\n",
    "print(f\"{distance:.1f}\")"
   ]
  },
  {
   "cell_type": "code",
   "execution_count": 26,
   "id": "8018ca4f",
   "metadata": {},
   "outputs": [
    {
     "name": "stdout",
     "output_type": "stream",
     "text": [
      "0.7\n"
     ]
    }
   ],
   "source": [
    "distance = word_vectors.distance(\"bar\", \"bad\")\n",
    "print(f\"{distance:.1f}\")"
   ]
  },
  {
   "cell_type": "code",
   "execution_count": 24,
   "id": "4eec6c57",
   "metadata": {},
   "outputs": [
    {
     "name": "stdout",
     "output_type": "stream",
     "text": [
      "[-0.038194 -0.24487   0.72812  -0.39961   0.083172  0.043953 -0.39141\n",
      "  0.3344   -0.57545   0.087459  0.28787  -0.06731   0.30906  -0.26384\n",
      " -0.13231  -0.20757   0.33395  -0.33848  -0.31743  -0.48336   0.1464\n",
      " -0.37304   0.34577   0.052041  0.44946  -0.46971   0.02628  -0.54155\n",
      " -0.15518  -0.14107  -0.039722  0.28277   0.14393   0.23464  -0.31021\n",
      "  0.086173  0.20397   0.52624   0.17164  -0.082378 -0.71787  -0.41531\n",
      "  0.20335  -0.12763   0.41367   0.55187   0.57908  -0.33477  -0.36559\n",
      " -0.54857  -0.062892  0.26584   0.30205   0.99775  -0.80481  -3.0243\n",
      "  0.01254  -0.36942   2.2167    0.72201  -0.24978   0.92136   0.034514\n",
      "  0.46745   1.1079   -0.19358  -0.074575  0.23353  -0.052062 -0.22044\n",
      "  0.057162 -0.15806  -0.30798  -0.41625   0.37972   0.15006  -0.53212\n",
      " -0.2055   -1.2526    0.071624  0.70565   0.49744  -0.42063   0.26148\n",
      " -1.538    -0.30223  -0.073438 -0.28312   0.37104  -0.25217   0.016215\n",
      " -0.017099 -0.38984   0.87424  -0.72569  -0.51058  -0.52028  -0.1459\n",
      "  0.8278    0.27062 ]\n"
     ]
    }
   ],
   "source": [
    "for vec in word_vectors:\n",
    "    print(vec)\n",
    "    break"
   ]
  },
  {
   "cell_type": "code",
   "execution_count": null,
   "id": "d72fc966",
   "metadata": {},
   "outputs": [],
   "source": []
  }
 ],
 "metadata": {
  "kernelspec": {
   "display_name": "Python 3",
   "language": "python",
   "name": "python3"
  },
  "language_info": {
   "codemirror_mode": {
    "name": "ipython",
    "version": 3
   },
   "file_extension": ".py",
   "mimetype": "text/x-python",
   "name": "python",
   "nbconvert_exporter": "python",
   "pygments_lexer": "ipython3",
   "version": "3.8.8"
  }
 },
 "nbformat": 4,
 "nbformat_minor": 5
}
