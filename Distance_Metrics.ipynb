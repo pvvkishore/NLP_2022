{
 "cells": [
  {
   "cell_type": "markdown",
   "id": "45357b2f",
   "metadata": {},
   "source": [
    "# Euclidean Distance"
   ]
  },
  {
   "cell_type": "code",
   "execution_count": 1,
   "id": "639e55ca",
   "metadata": {},
   "outputs": [],
   "source": [
    "import numpy as np\n",
    "import math"
   ]
  },
  {
   "cell_type": "code",
   "execution_count": 2,
   "id": "7a951dd8",
   "metadata": {},
   "outputs": [],
   "source": [
    "point1 = np.array((1,2,3))\n",
    "point2 = np.array((1,1,1))"
   ]
  },
  {
   "cell_type": "code",
   "execution_count": 3,
   "id": "cc5c1801",
   "metadata": {},
   "outputs": [
    {
     "data": {
      "text/plain": [
       "array([0, 1, 2])"
      ]
     },
     "execution_count": 3,
     "metadata": {},
     "output_type": "execute_result"
    }
   ],
   "source": [
    "t = point1 - point2\n",
    "t"
   ]
  },
  {
   "cell_type": "code",
   "execution_count": 4,
   "id": "87e33337",
   "metadata": {},
   "outputs": [
    {
     "data": {
      "text/plain": [
       "5"
      ]
     },
     "execution_count": 4,
     "metadata": {},
     "output_type": "execute_result"
    }
   ],
   "source": [
    "sum_squares = np.dot(t.T,t)\n",
    "sum_squares"
   ]
  },
  {
   "cell_type": "code",
   "execution_count": 5,
   "id": "540d9128",
   "metadata": {},
   "outputs": [
    {
     "data": {
      "text/plain": [
       "2.23606797749979"
      ]
     },
     "execution_count": 5,
     "metadata": {},
     "output_type": "execute_result"
    }
   ],
   "source": [
    "np.sqrt(sum_squares)"
   ]
  },
  {
   "cell_type": "code",
   "execution_count": 6,
   "id": "90ff1c5f",
   "metadata": {},
   "outputs": [
    {
     "data": {
      "text/plain": [
       "2.23606797749979"
      ]
     },
     "execution_count": 6,
     "metadata": {},
     "output_type": "execute_result"
    }
   ],
   "source": [
    "distance = math.sqrt(sum([(a - b) ** 2 for a, b in zip(point1, point2)]))\n",
    "distance"
   ]
  },
  {
   "cell_type": "code",
   "execution_count": 7,
   "id": "a72a4ff5",
   "metadata": {},
   "outputs": [
    {
     "data": {
      "text/plain": [
       "4"
      ]
     },
     "execution_count": 7,
     "metadata": {},
     "output_type": "execute_result"
    }
   ],
   "source": [
    "(1-1)^2 + (1-1)^2 + (3-1)^2"
   ]
  },
  {
   "cell_type": "code",
   "execution_count": 8,
   "id": "6bc196a8",
   "metadata": {},
   "outputs": [
    {
     "data": {
      "text/plain": [
       "2.0"
      ]
     },
     "execution_count": 8,
     "metadata": {},
     "output_type": "execute_result"
    }
   ],
   "source": [
    "np.sqrt(4)"
   ]
  },
  {
   "cell_type": "markdown",
   "id": "5dd1877f",
   "metadata": {},
   "source": [
    "# What is euclidean distance telling the user."
   ]
  },
  {
   "cell_type": "markdown",
   "id": "b3cddee6",
   "metadata": {},
   "source": [
    "# Cosine Distance or Cosine Similarity"
   ]
  },
  {
   "cell_type": "markdown",
   "id": "fa260b1e",
   "metadata": {},
   "source": [
    "##### DOT Product A.B = |A||B|cos(theta)"
   ]
  },
  {
   "cell_type": "code",
   "execution_count": 10,
   "id": "80cc9f35",
   "metadata": {},
   "outputs": [],
   "source": [
    "from numpy.linalg import norm"
   ]
  },
  {
   "cell_type": "markdown",
   "id": "8c1741bb",
   "metadata": {},
   "source": [
    "# L1 and L2 Norms\n",
    "### |-1|+|-2|+3+4+5 = 15  - --  -> L1 Norm\n",
    "##### sqrt(1^2 + 2^2 + 3^2 + 4^2 + 5^2) = 7.416 -  -------> L2 Norm"
   ]
  },
  {
   "cell_type": "code",
   "execution_count": 17,
   "id": "c8d4fa8e",
   "metadata": {},
   "outputs": [
    {
     "data": {
      "text/plain": [
       "6.0"
      ]
     },
     "execution_count": 17,
     "metadata": {},
     "output_type": "execute_result"
    }
   ],
   "source": [
    "norm(point1,1)"
   ]
  },
  {
   "cell_type": "code",
   "execution_count": 18,
   "id": "d50dc2a8",
   "metadata": {},
   "outputs": [
    {
     "data": {
      "text/plain": [
       "3.7416573867739413"
      ]
     },
     "execution_count": 18,
     "metadata": {},
     "output_type": "execute_result"
    }
   ],
   "source": [
    "norm(point1,2)"
   ]
  },
  {
   "cell_type": "code",
   "execution_count": 19,
   "id": "cc0ada63",
   "metadata": {},
   "outputs": [],
   "source": [
    "from numpy import dot"
   ]
  },
  {
   "cell_type": "code",
   "execution_count": 22,
   "id": "569ecbed",
   "metadata": {},
   "outputs": [
    {
     "data": {
      "text/plain": [
       "0.9258200997725515"
      ]
     },
     "execution_count": 22,
     "metadata": {},
     "output_type": "execute_result"
    }
   ],
   "source": [
    "cos_sim = dot(point1, point2)/(norm(point1)*norm(point2))\n",
    "cos_sim"
   ]
  },
  {
   "cell_type": "markdown",
   "id": "dbf81a5c",
   "metadata": {},
   "source": [
    "# What is cos(0)"
   ]
  },
  {
   "cell_type": "code",
   "execution_count": 23,
   "id": "e9c2fd4b",
   "metadata": {},
   "outputs": [
    {
     "data": {
      "text/plain": [
       "1.0"
      ]
     },
     "execution_count": 23,
     "metadata": {},
     "output_type": "execute_result"
    }
   ],
   "source": [
    "math.cos(0)"
   ]
  },
  {
   "cell_type": "code",
   "execution_count": 29,
   "id": "c54d636b",
   "metadata": {},
   "outputs": [
    {
     "data": {
      "text/plain": [
       "-0.9111302618846769"
      ]
     },
     "execution_count": 29,
     "metadata": {},
     "output_type": "execute_result"
    }
   ],
   "source": [
    "math.cos(9)"
   ]
  },
  {
   "cell_type": "markdown",
   "id": "8b0725aa",
   "metadata": {},
   "source": [
    "# What is cosine similarity telling the user?"
   ]
  },
  {
   "cell_type": "markdown",
   "id": "414e5ed3",
   "metadata": {},
   "source": [
    "# Which of these two is better for finding word similarities?"
   ]
  },
  {
   "cell_type": "code",
   "execution_count": 30,
   "id": "24e3b66d",
   "metadata": {},
   "outputs": [],
   "source": [
    "O = [0.00, 0.00]\n",
    "A = [1.45, 7.56]\n",
    "B = [7.81, 12.41]\n",
    "C = [8.83, 4.48]"
   ]
  },
  {
   "cell_type": "code",
   "execution_count": 33,
   "id": "0a0b6b8d",
   "metadata": {},
   "outputs": [
    {
     "data": {
      "text/plain": [
       "(7.998256059917061, 7.995329886877713, 7.996924408796171)"
      ]
     },
     "execution_count": 33,
     "metadata": {},
     "output_type": "execute_result"
    }
   ],
   "source": [
    "distance_A = math.sqrt(sum([(a - b) ** 2 for a, b in zip(A, B)]))\n",
    "distance_B = math.sqrt(sum([(a - b) ** 2 for a, b in zip(B, C)]))\n",
    "distance_C = math.sqrt(sum([(a - b) ** 2 for a, b in zip(C, A)]))\n",
    "distance_A, distance_B, distance_C"
   ]
  },
  {
   "cell_type": "code",
   "execution_count": 34,
   "id": "e5d85781",
   "metadata": {},
   "outputs": [
    {
     "data": {
      "text/plain": [
       "(0.9315258342391336, 0.8579300679601176, 0.6123399158783746)"
      ]
     },
     "execution_count": 34,
     "metadata": {},
     "output_type": "execute_result"
    }
   ],
   "source": [
    "cos_sim_A = dot(A, B)/(norm(A)*norm(B))\n",
    "cos_sim_B = dot(B, C)/(norm(B)*norm(C))\n",
    "cos_sim_C = dot(A, C)/(norm(A)*norm(C))\n",
    "cos_sim_A,cos_sim_B,cos_sim_C"
   ]
  },
  {
   "cell_type": "markdown",
   "id": "c12b1513",
   "metadata": {},
   "source": [
    "# Try this"
   ]
  },
  {
   "cell_type": "code",
   "execution_count": 38,
   "id": "04c72b61",
   "metadata": {},
   "outputs": [],
   "source": [
    "A = [8.00, 2.00]\n",
    "B = [12.00, 3.00]\n",
    "C = [32.00, 8.00]"
   ]
  },
  {
   "cell_type": "code",
   "execution_count": 39,
   "id": "bf551180",
   "metadata": {},
   "outputs": [
    {
     "data": {
      "text/plain": [
       "[8.0, 2.0]"
      ]
     },
     "execution_count": 39,
     "metadata": {},
     "output_type": "execute_result"
    }
   ],
   "source": [
    "A"
   ]
  },
  {
   "cell_type": "code",
   "execution_count": 40,
   "id": "3cde0c87",
   "metadata": {},
   "outputs": [
    {
     "data": {
      "text/plain": [
       "(4.123105625617661, 20.615528128088304, 24.73863375370596)"
      ]
     },
     "execution_count": 40,
     "metadata": {},
     "output_type": "execute_result"
    }
   ],
   "source": [
    "distance_A = math.sqrt(sum([(a - b) ** 2 for a, b in zip(A, B)]))\n",
    "distance_B = math.sqrt(sum([(a - b) ** 2 for a, b in zip(B, C)]))\n",
    "distance_C = math.sqrt(sum([(a - b) ** 2 for a, b in zip(C, A)]))\n",
    "distance_A, distance_B, distance_C"
   ]
  },
  {
   "cell_type": "code",
   "execution_count": 41,
   "id": "21fa0a64",
   "metadata": {},
   "outputs": [
    {
     "data": {
      "text/plain": [
       "(1.0, 1.0, 1.0)"
      ]
     },
     "execution_count": 41,
     "metadata": {},
     "output_type": "execute_result"
    }
   ],
   "source": [
    "cos_sim_A = dot(A, B)/(norm(A)*norm(B))\n",
    "cos_sim_B = dot(B, C)/(norm(B)*norm(C))\n",
    "cos_sim_C = dot(A, C)/(norm(A)*norm(C))\n",
    "cos_sim_A,cos_sim_B,cos_sim_C"
   ]
  },
  {
   "cell_type": "markdown",
   "id": "d41be4ab",
   "metadata": {},
   "source": [
    "# Comment on the two approaches and make judgement on when to use Euclidean or Cosine Distance metrics."
   ]
  },
  {
   "cell_type": "markdown",
   "id": "3a3a6b5e",
   "metadata": {},
   "source": [
    "###### This is a visual representation of euclidean distance (d) and cosine similarity (θ). While cosine looks at the angle between vectors (thus not taking into regard their weight or magnitude), euclidean distance is similar to using a ruler to actually measure the distance. "
   ]
  },
  {
   "cell_type": "markdown",
   "id": "a3a07955",
   "metadata": {},
   "source": [
    "# Why Cosine Similarity Matter for Text data."
   ]
  },
  {
   "cell_type": "markdown",
   "id": "072b17f8",
   "metadata": {},
   "source": [
    "###### Cosine similarity is generally used as a metric for measuring distance when the magnitude of the vectors does not matter. This happens for example when working with text data represented by word counts"
   ]
  },
  {
   "cell_type": "code",
   "execution_count": 42,
   "id": "ecf16bd7",
   "metadata": {},
   "outputs": [],
   "source": [
    "d1 = np.array((5,0,5,6,3,9,8,7,5,6))\n",
    "d2 = np.array((3,0,2,4,6,9,8,5,2,1))"
   ]
  },
  {
   "cell_type": "code",
   "execution_count": 45,
   "id": "d1921430",
   "metadata": {},
   "outputs": [
    {
     "data": {
      "text/plain": [
       "0.9074362105351957"
      ]
     },
     "execution_count": 45,
     "metadata": {},
     "output_type": "execute_result"
    }
   ],
   "source": [
    "cos_sim_A = dot(d1, d2)/(norm(d1)*norm(d2))\n",
    "cos_sim_A"
   ]
  },
  {
   "cell_type": "code",
   "execution_count": 49,
   "id": "750e39e6",
   "metadata": {},
   "outputs": [
    {
     "data": {
      "text/plain": [
       "263"
      ]
     },
     "execution_count": 49,
     "metadata": {},
     "output_type": "execute_result"
    }
   ],
   "source": [
    "np.sum(d1*d2)"
   ]
  },
  {
   "cell_type": "code",
   "execution_count": 47,
   "id": "aa78a1a1",
   "metadata": {},
   "outputs": [
    {
     "data": {
      "text/plain": [
       "263"
      ]
     },
     "execution_count": 47,
     "metadata": {},
     "output_type": "execute_result"
    }
   ],
   "source": [
    "dot(d1,d2)"
   ]
  },
  {
   "cell_type": "code",
   "execution_count": 50,
   "id": "13b8853e",
   "metadata": {},
   "outputs": [
    {
     "data": {
      "text/plain": [
       "18.708286933869708"
      ]
     },
     "execution_count": 50,
     "metadata": {},
     "output_type": "execute_result"
    }
   ],
   "source": [
    "norm(d1)"
   ]
  },
  {
   "cell_type": "code",
   "execution_count": 59,
   "id": "8e545011",
   "metadata": {},
   "outputs": [],
   "source": [
    "A = np.array((1,0,1,1))\n",
    "B = np.array((1,0,1,0))"
   ]
  },
  {
   "cell_type": "code",
   "execution_count": 60,
   "id": "0d8f1025",
   "metadata": {},
   "outputs": [
    {
     "data": {
      "text/plain": [
       "array([0, 0, 0, 1])"
      ]
     },
     "execution_count": 60,
     "metadata": {},
     "output_type": "execute_result"
    }
   ],
   "source": [
    "t = A - B\n",
    "t"
   ]
  },
  {
   "cell_type": "code",
   "execution_count": 61,
   "id": "dae89866",
   "metadata": {},
   "outputs": [
    {
     "data": {
      "text/plain": [
       "1.0"
      ]
     },
     "execution_count": 61,
     "metadata": {},
     "output_type": "execute_result"
    }
   ],
   "source": [
    "sum_squares = np.dot(t.T,t)\n",
    "sum_squares\n",
    "e_dist = np.sqrt(sum_squares)\n",
    "e_dist"
   ]
  },
  {
   "cell_type": "code",
   "execution_count": 62,
   "id": "ec7ad51b",
   "metadata": {},
   "outputs": [
    {
     "data": {
      "text/plain": [
       "0.8164965809277259"
      ]
     },
     "execution_count": 62,
     "metadata": {},
     "output_type": "execute_result"
    }
   ],
   "source": [
    "cos_sim_A = dot(A, B)/(norm(A)*norm(B))\n",
    "cos_sim_A"
   ]
  },
  {
   "cell_type": "code",
   "execution_count": 5,
   "id": "ee58fd48",
   "metadata": {},
   "outputs": [
    {
     "data": {
      "text/plain": [
       "2.4494897427831783"
      ]
     },
     "execution_count": 5,
     "metadata": {},
     "output_type": "execute_result"
    }
   ],
   "source": [
    "import numpy as np\n",
    "np.sqrt(2)*np.sqrt(3)"
   ]
  },
  {
   "cell_type": "code",
   "execution_count": 6,
   "id": "17d405e9",
   "metadata": {},
   "outputs": [
    {
     "data": {
      "text/plain": [
       "0.819672131147541"
      ]
     },
     "execution_count": 6,
     "metadata": {},
     "output_type": "execute_result"
    }
   ],
   "source": [
    "2/2.44"
   ]
  },
  {
   "cell_type": "code",
   "execution_count": null,
   "id": "02eda52d",
   "metadata": {},
   "outputs": [],
   "source": []
  },
  {
   "cell_type": "markdown",
   "id": "595a5f57",
   "metadata": {},
   "source": [
    "https://cmry.github.io/notes/euclidean-v-cosine"
   ]
  },
  {
   "cell_type": "code",
   "execution_count": null,
   "id": "ad74fc49",
   "metadata": {},
   "outputs": [],
   "source": []
  }
 ],
 "metadata": {
  "kernelspec": {
   "display_name": "Python 3",
   "language": "python",
   "name": "python3"
  },
  "language_info": {
   "codemirror_mode": {
    "name": "ipython",
    "version": 3
   },
   "file_extension": ".py",
   "mimetype": "text/x-python",
   "name": "python",
   "nbconvert_exporter": "python",
   "pygments_lexer": "ipython3",
   "version": "3.8.8"
  }
 },
 "nbformat": 4,
 "nbformat_minor": 5
}
