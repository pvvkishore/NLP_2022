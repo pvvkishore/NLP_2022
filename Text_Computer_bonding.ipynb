{
 "cells": [
  {
   "cell_type": "markdown",
   "id": "c78921a6",
   "metadata": {},
   "source": [
    "# How text is seen by the operating system."
   ]
  },
  {
   "cell_type": "code",
   "execution_count": 1,
   "id": "9b2e6bbf",
   "metadata": {},
   "outputs": [
    {
     "data": {
      "text/plain": [
       "('ĉ', 'H', 'd')"
      ]
     },
     "execution_count": 1,
     "metadata": {},
     "output_type": "execute_result"
    }
   ],
   "source": [
    "chr(265),chr(72),chr(100)"
   ]
  },
  {
   "cell_type": "code",
   "execution_count": 2,
   "id": "2a5eac56",
   "metadata": {},
   "outputs": [
    {
     "name": "stdout",
     "output_type": "stream",
     "text": [
      "The original list : ['united', 'is', 'untied']\n"
     ]
    }
   ],
   "source": [
    "test_list = ['united', 'is', 'untied']\n",
    "print(\"The original list : \" + str(test_list))"
   ]
  },
  {
   "cell_type": "code",
   "execution_count": 3,
   "id": "630e4d0f",
   "metadata": {},
   "outputs": [
    {
     "name": "stdout",
     "output_type": "stream",
     "text": [
      "The ascii list is : [117, 110, 105, 116, 101, 100, 105, 115, 117, 110, 116, 105, 101, 100]\n"
     ]
    }
   ],
   "source": [
    "res = [ord(ele) for sub in test_list for ele in sub]\n",
    "print(\"The ascii list is : \" + str(res))"
   ]
  },
  {
   "cell_type": "markdown",
   "id": "5036b1b8",
   "metadata": {},
   "source": [
    "# Regular Expressions: \n",
    "A regular expression (or RE) specifies a set of strings that matches it.\n",
    "https://docs.python.org/3/library/re.html"
   ]
  },
  {
   "cell_type": "markdown",
   "id": "1ed99b71",
   "metadata": {},
   "source": [
    "# This pattern matching chatbot is an example of a tightly controlled chatbot. "
   ]
  },
  {
   "cell_type": "code",
   "execution_count": 4,
   "id": "aa709219",
   "metadata": {},
   "outputs": [],
   "source": [
    "import re"
   ]
  },
  {
   "cell_type": "markdown",
   "id": "ed6496a9",
   "metadata": {},
   "source": [
    "regular expression \"[a-z]\" will match any single lowercase letter, “a” through “z.” The star ('*') after a character class means that the regular expression will match any number of consecutive characters if they are all within that character class."
   ]
  },
  {
   "cell_type": "code",
   "execution_count": 5,
   "id": "b35a500c",
   "metadata": {},
   "outputs": [
    {
     "name": "stdout",
     "output_type": "stream",
     "text": [
      "The ascii list is : [40, 104, 105, 124, 104, 101, 108, 108, 111, 124, 104, 101, 121, 41, 91, 32, 93, 42, 40, 91, 97, 45, 122, 93, 42, 41]\n"
     ]
    }
   ],
   "source": [
    "r = \"(hi|hello|hey)[ ]*([a-z]*)\"\n",
    "#r = \"(kishore|hello|hi)\"\n",
    "res = [ord(ele) for sub in r for ele in sub]\n",
    "print(\"The ascii list is : \" + str(res))"
   ]
  },
  {
   "cell_type": "code",
   "execution_count": 3,
   "id": "434fee62",
   "metadata": {},
   "outputs": [
    {
     "data": {
      "text/plain": [
       "<re.Match object; span=(0, 10), match='Hello Rosa'>"
      ]
     },
     "execution_count": 3,
     "metadata": {},
     "output_type": "execute_result"
    }
   ],
   "source": [
    "re.match(r, 'Hello kishore', flags=re.IGNORECASE)"
   ]
  },
  {
   "cell_type": "code",
   "execution_count": 6,
   "id": "444c0c33",
   "metadata": {},
   "outputs": [
    {
     "data": {
      "text/plain": [
       "<re.Match object; span=(0, 5), match='hi ho'>"
      ]
     },
     "execution_count": 6,
     "metadata": {},
     "output_type": "execute_result"
    }
   ],
   "source": [
    "re.match(r, \"hi ho, hi ho, it's off to work ...\", flags=re.IGNORECASE)"
   ]
  },
  {
   "cell_type": "code",
   "execution_count": 7,
   "id": "b745bb7c",
   "metadata": {},
   "outputs": [
    {
     "data": {
      "text/plain": [
       "<re.Match object; span=(0, 3), match='hey'>"
      ]
     },
     "execution_count": 7,
     "metadata": {},
     "output_type": "execute_result"
    }
   ],
   "source": [
    "re.match(r, \"hey, what's up\", flags=re.IGNORECASE)"
   ]
  },
  {
   "cell_type": "markdown",
   "id": "69643e12",
   "metadata": {},
   "source": [
    "# Lets get deeper - Why NLP is Hard"
   ]
  },
  {
   "cell_type": "code",
   "execution_count": 8,
   "id": "e30e89fd",
   "metadata": {},
   "outputs": [],
   "source": [
    "r = r\"[^a-z]*([y]o|[h']?ello|ok|hey|(good[ ])?(morn[gin']{0,3}|\"\\\n",
    "...     r\"afternoon|even[gin']{0,3}))[\\s,;:]{1,3}([a-z]{1,20})\""
   ]
  },
  {
   "cell_type": "code",
   "execution_count": 9,
   "id": "2bf9e4a3",
   "metadata": {},
   "outputs": [
    {
     "data": {
      "text/plain": [
       "('Hello', None, None, 'Rosa')"
      ]
     },
     "execution_count": 9,
     "metadata": {},
     "output_type": "execute_result"
    }
   ],
   "source": [
    "re_greeting = re.compile(r,flags=re.IGNORECASE)\n",
    "re_greeting.match('Hello Rosa')\n",
    "re_greeting.match('Hello Rosa').groups()"
   ]
  },
  {
   "cell_type": "code",
   "execution_count": 11,
   "id": "23b99a1c",
   "metadata": {},
   "outputs": [],
   "source": [
    "re_greeting.match('Good mornning Kishore')"
   ]
  },
  {
   "cell_type": "code",
   "execution_count": 12,
   "id": "139e8043",
   "metadata": {},
   "outputs": [
    {
     "data": {
      "text/plain": [
       "('Good evening', 'Good ', 'evening', 'Kishore')"
      ]
     },
     "execution_count": 12,
     "metadata": {},
     "output_type": "execute_result"
    }
   ],
   "source": [
    "re_greeting.match('Good evening Kishore').groups()"
   ]
  },
  {
   "cell_type": "code",
   "execution_count": 16,
   "id": "9b0fe027",
   "metadata": {},
   "outputs": [
    {
     "data": {
      "text/plain": [
       "<re.Match object; span=(0, 20), match=\"Good eveni'n Kishore\">"
      ]
     },
     "execution_count": 16,
     "metadata": {},
     "output_type": "execute_result"
    }
   ],
   "source": [
    "re_greeting.match(\"Good eveni'n Kishore\")"
   ]
  },
  {
   "cell_type": "markdown",
   "id": "1508d49c",
   "metadata": {},
   "source": [
    "# What did the chat miss?"
   ]
  },
  {
   "cell_type": "code",
   "execution_count": 16,
   "id": "75d24cea",
   "metadata": {},
   "outputs": [
    {
     "name": "stdout",
     "output_type": "stream",
     "text": [
      "hello bot\n",
      "Hi , How are you?\n"
     ]
    }
   ],
   "source": [
    "my_names = set(['rosa', 'rose', 'chatty', 'chatbot', 'bot','chatterbot'])\n",
    "curt_names = set(['hal', 'you', 'u'])\n",
    "greeter_name = ''\n",
    "match = re_greeting.match(input())\n",
    "\n",
    "if match:\n",
    "    at_name = match.groups()[-1]\n",
    "    if at_name in curt_names:\n",
    "        print(\"Good one.\")\n",
    "    elif at_name.lower() in my_names:\n",
    "        print(\"Hi {}, How are you?\".format(greeter_name))"
   ]
  },
  {
   "cell_type": "markdown",
   "id": "b938cb2d",
   "metadata": {},
   "source": [
    "# How to convert text data into vectors."
   ]
  },
  {
   "cell_type": "code",
   "execution_count": null,
   "id": "5f6c0936",
   "metadata": {},
   "outputs": [],
   "source": [
    "import tensorflow as tf\n",
    "from tensorflow.keras.preprocessing.text import Tokenizer"
   ]
  },
  {
   "cell_type": "code",
   "execution_count": null,
   "id": "d3b6fe95",
   "metadata": {},
   "outputs": [],
   "source": [
    "sen0 = ['I Know You']\n",
    "sen1 = ['I Know You and I know what You are upto']\n",
    "sen2 = ['I know & I learn']"
   ]
  },
  {
   "cell_type": "markdown",
   "id": "8a5ed2f4",
   "metadata": {},
   "source": [
    "Tokenizer?"
   ]
  },
  {
   "cell_type": "code",
   "execution_count": null,
   "id": "92435550",
   "metadata": {},
   "outputs": [],
   "source": [
    "tokens = Tokenizer(num_words = 100)"
   ]
  },
  {
   "cell_type": "code",
   "execution_count": null,
   "id": "dc1ad1ce",
   "metadata": {},
   "outputs": [],
   "source": [
    "tokens.fit_on_texts(sen1)"
   ]
  },
  {
   "cell_type": "code",
   "execution_count": null,
   "id": "08bd8648",
   "metadata": {},
   "outputs": [],
   "source": [
    "tokens.word_index"
   ]
  },
  {
   "cell_type": "code",
   "execution_count": null,
   "id": "d5d51e94",
   "metadata": {},
   "outputs": [],
   "source": []
  }
 ],
 "metadata": {
  "kernelspec": {
   "display_name": "Python 3",
   "language": "python",
   "name": "python3"
  },
  "language_info": {
   "codemirror_mode": {
    "name": "ipython",
    "version": 3
   },
   "file_extension": ".py",
   "mimetype": "text/x-python",
   "name": "python",
   "nbconvert_exporter": "python",
   "pygments_lexer": "ipython3",
   "version": "3.8.8"
  }
 },
 "nbformat": 4,
 "nbformat_minor": 5
}
