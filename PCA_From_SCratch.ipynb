{
 "cells": [
  {
   "cell_type": "markdown",
   "id": "e0bb3b43",
   "metadata": {},
   "source": [
    "# Principle Component Analysis - The PCA"
   ]
  },
  {
   "cell_type": "code",
   "execution_count": 49,
   "id": "5266c914",
   "metadata": {},
   "outputs": [],
   "source": [
    "import numpy as np\n",
    "A = np.array([\n",
    "    [0,3,4],\n",
    "    [1,2,4],\n",
    "    [3,4,5]\n",
    "])"
   ]
  },
  {
   "cell_type": "code",
   "execution_count": 50,
   "id": "553cd138",
   "metadata": {},
   "outputs": [
    {
     "data": {
      "text/plain": [
       "array([[4.33333333, 2.83333333, 2.        ],\n",
       "       [2.83333333, 2.33333333, 1.5       ],\n",
       "       [2.        , 1.5       , 1.        ]])"
      ]
     },
     "execution_count": 50,
     "metadata": {},
     "output_type": "execute_result"
    }
   ],
   "source": [
    "cov_mat = np.cov(A)\n",
    "cov_mat"
   ]
  },
  {
   "cell_type": "code",
   "execution_count": 51,
   "id": "1a7f4ffe",
   "metadata": {},
   "outputs": [
    {
     "data": {
      "text/plain": [
       "array([[1.        , 0.89104211, 0.96076892],\n",
       "       [0.89104211, 1.        , 0.98198051],\n",
       "       [0.96076892, 0.98198051, 1.        ]])"
      ]
     },
     "execution_count": 51,
     "metadata": {},
     "output_type": "execute_result"
    }
   ],
   "source": [
    "corr_mat = np.corrcoef(A)\n",
    "corr_mat"
   ]
  },
  {
   "cell_type": "markdown",
   "id": "98aeba02",
   "metadata": {},
   "source": [
    "# How PCA Works?\n",
    "### The orthogonal projection of data from high dimensions to lower dimensions such that:\n",
    "\n",
    "# Maximizes the variance of the projected line (purple)\n",
    "# Minimizes the MSE between the data points and projections (blue)"
   ]
  },
  {
   "cell_type": "code",
   "execution_count": 62,
   "id": "2290acdd",
   "metadata": {},
   "outputs": [],
   "source": [
    "A = np.array([\n",
    "    [1,2,3],\n",
    "    [2,3,2]\n",
    "])\n",
    "A = np.array([\n",
    "    [1,-1],\n",
    "    [0,1],\n",
    "    [-1,0]\n",
    "])"
   ]
  },
  {
   "cell_type": "markdown",
   "id": "66359546",
   "metadata": {},
   "source": [
    "# step_1:Mean center the data "
   ]
  },
  {
   "cell_type": "code",
   "execution_count": 63,
   "id": "96435181",
   "metadata": {},
   "outputs": [
    {
     "name": "stdout",
     "output_type": "stream",
     "text": [
      "Total_Mean: 0.0\n",
      "Mean Along Columns: [0. 0.]\n"
     ]
    }
   ],
   "source": [
    "A_Mean = np.mean(A)\n",
    "print('Total_Mean:',A_Mean)\n",
    "A_Mean = np.mean(A, axis = 0)\n",
    "print('Mean Along Columns:',A_Mean)"
   ]
  },
  {
   "cell_type": "code",
   "execution_count": 64,
   "id": "19982e0c",
   "metadata": {},
   "outputs": [
    {
     "data": {
      "text/plain": [
       "array([[ 1., -1.],\n",
       "       [ 0.,  1.],\n",
       "       [-1.,  0.]])"
      ]
     },
     "execution_count": 64,
     "metadata": {},
     "output_type": "execute_result"
    }
   ],
   "source": [
    "# Mean Center Data(MCD)\n",
    "A_MCD = A- A_Mean\n",
    "A_MCD"
   ]
  },
  {
   "cell_type": "markdown",
   "id": "a2c50ca8",
   "metadata": {},
   "source": [
    "# Step_2: Calculate Covariance Matrix: Variance in data"
   ]
  },
  {
   "cell_type": "code",
   "execution_count": 65,
   "id": "21d2931b",
   "metadata": {},
   "outputs": [
    {
     "data": {
      "text/plain": [
       "array([[ 2., -1.],\n",
       "       [-1.,  2.]])"
      ]
     },
     "execution_count": 65,
     "metadata": {},
     "output_type": "execute_result"
    }
   ],
   "source": [
    "A_cov = np.cov(A_MCD, rowvar = False)\n",
    "A_cov = np.matmul(A_MCD.T,A_MCD)\n",
    "A_cov"
   ]
  },
  {
   "cell_type": "markdown",
   "id": "53ef2ea4",
   "metadata": {},
   "source": [
    "# Step_3:Calculate Eigen Values and Eigen Vectors"
   ]
  },
  {
   "cell_type": "code",
   "execution_count": 66,
   "id": "8fe15b2d",
   "metadata": {},
   "outputs": [
    {
     "data": {
      "text/plain": [
       "(array([1., 3.]),\n",
       " array([[-0.70710678, -0.70710678],\n",
       "        [-0.70710678,  0.70710678]]))"
      ]
     },
     "execution_count": 66,
     "metadata": {},
     "output_type": "execute_result"
    }
   ],
   "source": [
    "eigen_val_A, eigen_vec_A = np.linalg.eigh(A_cov)\n",
    "eigen_val_A, eigen_vec_A"
   ]
  },
  {
   "cell_type": "markdown",
   "id": "af3c81e5",
   "metadata": {},
   "source": [
    "# Step_4. Sort Eigenvalues in descending order"
   ]
  },
  {
   "cell_type": "code",
   "execution_count": 67,
   "id": "820d70c0",
   "metadata": {},
   "outputs": [
    {
     "data": {
      "text/plain": [
       "array([1, 0], dtype=int64)"
      ]
     },
     "execution_count": 67,
     "metadata": {},
     "output_type": "execute_result"
    }
   ],
   "source": [
    "sort_idx = np.argsort(eigen_val_A)[::-1]\n",
    "sort_idx"
   ]
  },
  {
   "cell_type": "code",
   "execution_count": 68,
   "id": "a33ba639",
   "metadata": {},
   "outputs": [
    {
     "data": {
      "text/plain": [
       "(array([3., 1.]), array([1., 3.]))"
      ]
     },
     "execution_count": 68,
     "metadata": {},
     "output_type": "execute_result"
    }
   ],
   "source": [
    "Sorted_eigen_vals = eigen_val_A[sort_idx]\n",
    "Sorted_eigen_vals, eigen_val_A"
   ]
  },
  {
   "cell_type": "code",
   "execution_count": 69,
   "id": "c54d32c2",
   "metadata": {},
   "outputs": [
    {
     "data": {
      "text/plain": [
       "(array([[-0.70710678,  0.70710678],\n",
       "        [-0.70710678, -0.70710678]]),\n",
       " array([[-0.70710678, -0.70710678],\n",
       "        [-0.70710678,  0.70710678]]))"
      ]
     },
     "execution_count": 69,
     "metadata": {},
     "output_type": "execute_result"
    }
   ],
   "source": [
    "Sorted_eigen_vectors = eigen_vec_A[sort_idx]\n",
    "Sorted_eigen_vectors, eigen_vec_A"
   ]
  },
  {
   "cell_type": "markdown",
   "id": "cbee3621",
   "metadata": {},
   "source": [
    "# Step_5:5. Select a subset from the rearranged Eigenvalue matrix or Number of PCA components"
   ]
  },
  {
   "cell_type": "code",
   "execution_count": 70,
   "id": "2a68ea1e",
   "metadata": {},
   "outputs": [
    {
     "data": {
      "text/plain": [
       "array([[-0.70710678],\n",
       "       [-0.70710678]])"
      ]
     },
     "execution_count": 70,
     "metadata": {},
     "output_type": "execute_result"
    }
   ],
   "source": [
    "n_comp = 1\n",
    "eigen_vector_subset = Sorted_eigen_vectors[:,0:n_comp]\n",
    "eigen_vector_subset"
   ]
  },
  {
   "cell_type": "markdown",
   "id": "5bbb1e97",
   "metadata": {},
   "source": [
    "# Step_6: Transform the data with reduced dimensions"
   ]
  },
  {
   "cell_type": "code",
   "execution_count": 71,
   "id": "8b481d68",
   "metadata": {},
   "outputs": [
    {
     "data": {
      "text/plain": [
       "array([[ 0.        ],\n",
       "       [-0.70710678],\n",
       "       [ 0.70710678]])"
      ]
     },
     "execution_count": 71,
     "metadata": {},
     "output_type": "execute_result"
    }
   ],
   "source": [
    "#Transform the data \n",
    "A_reduced = np.dot(eigen_vector_subset.transpose(),A_MCD.transpose()).transpose()\n",
    "A_reduced "
   ]
  },
  {
   "cell_type": "code",
   "execution_count": null,
   "id": "a39ce809",
   "metadata": {},
   "outputs": [],
   "source": []
  }
 ],
 "metadata": {
  "kernelspec": {
   "display_name": "Python 3",
   "language": "python",
   "name": "python3"
  },
  "language_info": {
   "codemirror_mode": {
    "name": "ipython",
    "version": 3
   },
   "file_extension": ".py",
   "mimetype": "text/x-python",
   "name": "python",
   "nbconvert_exporter": "python",
   "pygments_lexer": "ipython3",
   "version": "3.8.8"
  }
 },
 "nbformat": 4,
 "nbformat_minor": 5
}
